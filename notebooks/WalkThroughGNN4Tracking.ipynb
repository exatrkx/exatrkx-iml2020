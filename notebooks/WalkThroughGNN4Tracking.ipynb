{
 "cells": [
  {
   "cell_type": "markdown",
   "metadata": {
    "colab_type": "text",
    "id": "view-in-github"
   },
   "source": [
    "<a href=\"https://colab.research.google.com/github/exatrkx/exatrkx-iml2020/blob/main/notebooks/WalkThroughGNN4Tracking.ipynb\" target=\"_parent\"><img src=\"https://colab.research.google.com/assets/colab-badge.svg\" alt=\"Open In Colab\"/></a>"
   ]
  },
  {
   "cell_type": "markdown",
   "metadata": {
    "id": "LYRhjhjcsg22"
   },
   "source": [
    "Last update: 2020-11-25\n",
    "\n",
    "Changing log:\n",
    "* 2020-11-25: manually install pytorch 1.6.0."
   ]
  },
  {
   "cell_type": "markdown",
   "metadata": {
    "id": "jtKyubYkUwd2"
   },
   "source": [
    "# Preparation"
   ]
  },
  {
   "cell_type": "markdown",
   "metadata": {
    "id": "lQnwug0jg-Zi"
   },
   "source": [
    "Following steps are to install dependent libraries. After each `pip install`, please restart the runtime and continue to next cell. Once everything is installed, it is ready to run the rest of the cells."
   ]
  },
  {
   "cell_type": "code",
   "execution_count": null,
   "metadata": {
    "colab": {
     "base_uri": "https://localhost:8080/"
    },
    "id": "beVx-ljhU3y7",
    "outputId": "935ccba6-e107-4c7c-b884-52b9ffc21db9"
   },
   "outputs": [
    {
     "name": "stdout",
     "output_type": "stream",
     "text": [
      "1.6.0+cu101\n",
      "2.3.0\n"
     ]
    }
   ],
   "source": [
    "import torch\n",
    "import tensorflow as tf\n",
    "print(torch.__version__)\n",
    "print(tf.__version__)"
   ]
  },
  {
   "cell_type": "code",
   "execution_count": null,
   "metadata": {
    "colab": {
     "base_uri": "https://localhost:8080/"
    },
    "id": "FpCzsFGIwd5x",
    "outputId": "53cbaada-28ac-4737-efc1-ea7b3cab1fa7"
   },
   "outputs": [
    {
     "name": "stdout",
     "output_type": "stream",
     "text": [
      "Python 3.6.9\n",
      "pip 19.3.1 from /usr/local/lib/python3.6/dist-packages/pip (python 3.6)\n"
     ]
    }
   ],
   "source": [
    "!python --version\n",
    "!pip --version"
   ]
  },
  {
   "cell_type": "markdown",
   "metadata": {
    "id": "IStnNMIfJvZj"
   },
   "source": [
    "The torch geometric was using pytorch 1.6.0, so reinstall pytorch"
   ]
  },
  {
   "cell_type": "code",
   "execution_count": null,
   "metadata": {
    "colab": {
     "base_uri": "https://localhost:8080/",
     "height": 445
    },
    "id": "KIQ0cPKOFg2-",
    "outputId": "a5a66243-8fa5-4b1e-a256-ac0b28f04a09"
   },
   "outputs": [
    {
     "name": "stdout",
     "output_type": "stream",
     "text": [
      "Looking in links: https://download.pytorch.org/whl/torch_stable.html\n",
      "Collecting torch==1.6.0+cu101\n",
      "\u001b[?25l  Downloading https://download.pytorch.org/whl/cu101/torch-1.6.0%2Bcu101-cp36-cp36m-linux_x86_64.whl (708.0MB)\n",
      "\u001b[K     |████████████████████████████████| 708.0MB 25kB/s \n",
      "\u001b[?25hCollecting torchvision==0.7.0+cu101\n",
      "\u001b[?25l  Downloading https://download.pytorch.org/whl/cu101/torchvision-0.7.0%2Bcu101-cp36-cp36m-linux_x86_64.whl (5.9MB)\n",
      "\u001b[K     |████████████████████████████████| 5.9MB 2.6MB/s \n",
      "\u001b[?25hRequirement already satisfied: numpy in /usr/local/lib/python3.6/dist-packages (from torch==1.6.0+cu101) (1.18.5)\n",
      "Requirement already satisfied: future in /usr/local/lib/python3.6/dist-packages (from torch==1.6.0+cu101) (0.16.0)\n",
      "Requirement already satisfied: pillow>=4.1.1 in /usr/local/lib/python3.6/dist-packages (from torchvision==0.7.0+cu101) (7.0.0)\n",
      "Installing collected packages: torch, torchvision\n",
      "  Found existing installation: torch 1.7.0+cu101\n",
      "    Uninstalling torch-1.7.0+cu101:\n",
      "      Successfully uninstalled torch-1.7.0+cu101\n",
      "  Found existing installation: torchvision 0.8.1+cu101\n",
      "    Uninstalling torchvision-0.8.1+cu101:\n",
      "      Successfully uninstalled torchvision-0.8.1+cu101\n",
      "Successfully installed torch-1.6.0+cu101 torchvision-0.7.0+cu101\n"
     ]
    },
    {
     "data": {
      "application/vnd.colab-display-data+json": {
       "pip_warning": {
        "packages": [
         "torch"
        ]
       }
      }
     },
     "metadata": {
      "tags": []
     },
     "output_type": "display_data"
    }
   ],
   "source": [
    "!pip install torch==1.6.0+cu101 torchvision==0.7.0+cu101 -f https://download.pytorch.org/whl/torch_stable.html"
   ]
  },
  {
   "cell_type": "code",
   "execution_count": null,
   "metadata": {
    "colab": {
     "base_uri": "https://localhost:8080/",
     "height": 1000
    },
    "id": "SP9ioeZDqRWX",
    "outputId": "b9b80873-6285-4791-9917-f37d7a0a4ff3"
   },
   "outputs": [
    {
     "name": "stdout",
     "output_type": "stream",
     "text": [
      "Collecting git+https://github.com/exatrkx/exatrkx-iml2020.git@v1.1.1\n",
      "  Cloning https://github.com/exatrkx/exatrkx-iml2020.git (to revision v1.1.1) to /tmp/pip-req-build-zqh23jb1\n",
      "  Running command git clone -q https://github.com/exatrkx/exatrkx-iml2020.git /tmp/pip-req-build-zqh23jb1\n",
      "  Running command git checkout -q d0ad6bde13132cd458d8ee63d1c3d6a23a1bf5f4\n",
      "Collecting pytorch-lightning==1.0.2\n",
      "\u001b[?25l  Downloading https://files.pythonhosted.org/packages/13/7c/f11866f639ac00de50ec4825ad867e7f41505fd56ac4ab23b4722183c629/pytorch_lightning-1.0.2-py3-none-any.whl (532kB)\n",
      "\u001b[K     |████████████████████████████████| 542kB 9.1MB/s \n",
      "\u001b[?25hCollecting faiss-gpu\n",
      "\u001b[?25l  Downloading https://files.pythonhosted.org/packages/5a/6b/1e316d731ce94821854cd54d04b4a0dd3e3c5d47292d9a373b56a8e19a8f/faiss_gpu-1.6.4.post2-cp36-cp36m-manylinux2014_x86_64.whl (67.6MB)\n",
      "\u001b[K     |████████████████████████████████| 67.6MB 76kB/s \n",
      "\u001b[?25hCollecting trackml@ https://github.com/LAL/trackml-library/tarball/master#egg=trackml-3\n",
      "\u001b[?25l  Downloading https://github.com/LAL/trackml-library/tarball/master\n",
      "\u001b[K     \\ 20kB 25.6MB/s\n",
      "\u001b[?25hCollecting graph_nets>=1.1\n",
      "\u001b[?25l  Downloading https://files.pythonhosted.org/packages/47/7a/a4a686426b1eae92887280d008c92bac2a0d1ed7dfa083a277d64f47555f/graph_nets-1.1.0.tar.gz (76kB)\n",
      "\u001b[K     |████████████████████████████████| 81kB 8.1MB/s \n",
      "\u001b[?25hRequirement already satisfied: torch>=1.3 in /usr/local/lib/python3.6/dist-packages (from pytorch-lightning==1.0.2->exatrkx==1.1.1) (1.6.0+cu101)\n",
      "Requirement already satisfied: numpy>=1.16.4 in /usr/local/lib/python3.6/dist-packages (from pytorch-lightning==1.0.2->exatrkx==1.1.1) (1.18.5)\n",
      "Requirement already satisfied: tensorboard>=2.2.0 in /usr/local/lib/python3.6/dist-packages (from pytorch-lightning==1.0.2->exatrkx==1.1.1) (2.3.0)\n",
      "Requirement already satisfied: tqdm>=4.41.0 in /usr/local/lib/python3.6/dist-packages (from pytorch-lightning==1.0.2->exatrkx==1.1.1) (4.41.1)\n",
      "Collecting fsspec>=0.8.0\n",
      "\u001b[?25l  Downloading https://files.pythonhosted.org/packages/a5/8b/1df260f860f17cb08698170153ef7db672c497c1840dcc8613ce26a8a005/fsspec-0.8.4-py3-none-any.whl (91kB)\n",
      "\u001b[K     |████████████████████████████████| 92kB 8.5MB/s \n",
      "\u001b[?25hCollecting PyYAML>=5.1\n",
      "\u001b[?25l  Downloading https://files.pythonhosted.org/packages/64/c2/b80047c7ac2478f9501676c988a5411ed5572f35d1beff9cae07d321512c/PyYAML-5.3.1.tar.gz (269kB)\n",
      "\u001b[K     |████████████████████████████████| 276kB 46.6MB/s \n",
      "\u001b[?25hCollecting future>=0.17.1\n",
      "\u001b[?25l  Downloading https://files.pythonhosted.org/packages/45/0b/38b06fd9b92dc2b68d58b75f900e97884c45bedd2ff83203d933cf5851c9/future-0.18.2.tar.gz (829kB)\n",
      "\u001b[K     |████████████████████████████████| 829kB 42.8MB/s \n",
      "\u001b[?25hRequirement already satisfied: pandas>=0.21.0 in /usr/local/lib/python3.6/dist-packages (from trackml@ https://github.com/LAL/trackml-library/tarball/master#egg=trackml-3->exatrkx==1.1.1) (1.1.4)\n",
      "Requirement already satisfied: absl-py in /usr/local/lib/python3.6/dist-packages (from graph_nets>=1.1->exatrkx==1.1.1) (0.10.0)\n",
      "Collecting dm-sonnet\n",
      "\u001b[?25l  Downloading https://files.pythonhosted.org/packages/13/28/9185afffefb655ef1a29f4b84aa9f656826408ca2d1b9ffeba81fbfd40ec/dm_sonnet-2.0.0-py3-none-any.whl (254kB)\n",
      "\u001b[K     |████████████████████████████████| 256kB 43.2MB/s \n",
      "\u001b[?25hRequirement already satisfied: dm-tree in /usr/local/lib/python3.6/dist-packages (from graph_nets>=1.1->exatrkx==1.1.1) (0.1.5)\n",
      "Requirement already satisfied: networkx in /usr/local/lib/python3.6/dist-packages (from graph_nets>=1.1->exatrkx==1.1.1) (2.5)\n",
      "Requirement already satisfied: setuptools in /usr/local/lib/python3.6/dist-packages (from graph_nets>=1.1->exatrkx==1.1.1) (50.3.2)\n",
      "Requirement already satisfied: six in /usr/local/lib/python3.6/dist-packages (from graph_nets>=1.1->exatrkx==1.1.1) (1.15.0)\n",
      "Requirement already satisfied: google-auth<2,>=1.6.3 in /usr/local/lib/python3.6/dist-packages (from tensorboard>=2.2.0->pytorch-lightning==1.0.2->exatrkx==1.1.1) (1.17.2)\n",
      "Requirement already satisfied: protobuf>=3.6.0 in /usr/local/lib/python3.6/dist-packages (from tensorboard>=2.2.0->pytorch-lightning==1.0.2->exatrkx==1.1.1) (3.12.4)\n",
      "Requirement already satisfied: werkzeug>=0.11.15 in /usr/local/lib/python3.6/dist-packages (from tensorboard>=2.2.0->pytorch-lightning==1.0.2->exatrkx==1.1.1) (1.0.1)\n",
      "Requirement already satisfied: wheel>=0.26; python_version >= \"3\" in /usr/local/lib/python3.6/dist-packages (from tensorboard>=2.2.0->pytorch-lightning==1.0.2->exatrkx==1.1.1) (0.35.1)\n",
      "Requirement already satisfied: google-auth-oauthlib<0.5,>=0.4.1 in /usr/local/lib/python3.6/dist-packages (from tensorboard>=2.2.0->pytorch-lightning==1.0.2->exatrkx==1.1.1) (0.4.2)\n",
      "Requirement already satisfied: markdown>=2.6.8 in /usr/local/lib/python3.6/dist-packages (from tensorboard>=2.2.0->pytorch-lightning==1.0.2->exatrkx==1.1.1) (3.3.3)\n",
      "Requirement already satisfied: grpcio>=1.24.3 in /usr/local/lib/python3.6/dist-packages (from tensorboard>=2.2.0->pytorch-lightning==1.0.2->exatrkx==1.1.1) (1.33.2)\n",
      "Requirement already satisfied: requests<3,>=2.21.0 in /usr/local/lib/python3.6/dist-packages (from tensorboard>=2.2.0->pytorch-lightning==1.0.2->exatrkx==1.1.1) (2.23.0)\n",
      "Requirement already satisfied: tensorboard-plugin-wit>=1.6.0 in /usr/local/lib/python3.6/dist-packages (from tensorboard>=2.2.0->pytorch-lightning==1.0.2->exatrkx==1.1.1) (1.7.0)\n",
      "Requirement already satisfied: python-dateutil>=2.7.3 in /usr/local/lib/python3.6/dist-packages (from pandas>=0.21.0->trackml@ https://github.com/LAL/trackml-library/tarball/master#egg=trackml-3->exatrkx==1.1.1) (2.8.1)\n",
      "Requirement already satisfied: pytz>=2017.2 in /usr/local/lib/python3.6/dist-packages (from pandas>=0.21.0->trackml@ https://github.com/LAL/trackml-library/tarball/master#egg=trackml-3->exatrkx==1.1.1) (2018.9)\n",
      "Requirement already satisfied: tabulate>=0.7.5 in /usr/local/lib/python3.6/dist-packages (from dm-sonnet->graph_nets>=1.1->exatrkx==1.1.1) (0.8.7)\n",
      "Requirement already satisfied: wrapt>=1.11.1 in /usr/local/lib/python3.6/dist-packages (from dm-sonnet->graph_nets>=1.1->exatrkx==1.1.1) (1.12.1)\n",
      "Requirement already satisfied: decorator>=4.3.0 in /usr/local/lib/python3.6/dist-packages (from networkx->graph_nets>=1.1->exatrkx==1.1.1) (4.4.2)\n",
      "Requirement already satisfied: cachetools<5.0,>=2.0.0 in /usr/local/lib/python3.6/dist-packages (from google-auth<2,>=1.6.3->tensorboard>=2.2.0->pytorch-lightning==1.0.2->exatrkx==1.1.1) (4.1.1)\n",
      "Requirement already satisfied: pyasn1-modules>=0.2.1 in /usr/local/lib/python3.6/dist-packages (from google-auth<2,>=1.6.3->tensorboard>=2.2.0->pytorch-lightning==1.0.2->exatrkx==1.1.1) (0.2.8)\n",
      "Requirement already satisfied: rsa<5,>=3.1.4; python_version >= \"3\" in /usr/local/lib/python3.6/dist-packages (from google-auth<2,>=1.6.3->tensorboard>=2.2.0->pytorch-lightning==1.0.2->exatrkx==1.1.1) (4.6)\n",
      "Requirement already satisfied: requests-oauthlib>=0.7.0 in /usr/local/lib/python3.6/dist-packages (from google-auth-oauthlib<0.5,>=0.4.1->tensorboard>=2.2.0->pytorch-lightning==1.0.2->exatrkx==1.1.1) (1.3.0)\n",
      "Requirement already satisfied: importlib-metadata; python_version < \"3.8\" in /usr/local/lib/python3.6/dist-packages (from markdown>=2.6.8->tensorboard>=2.2.0->pytorch-lightning==1.0.2->exatrkx==1.1.1) (2.0.0)\n",
      "Requirement already satisfied: certifi>=2017.4.17 in /usr/local/lib/python3.6/dist-packages (from requests<3,>=2.21.0->tensorboard>=2.2.0->pytorch-lightning==1.0.2->exatrkx==1.1.1) (2020.11.8)\n",
      "Requirement already satisfied: urllib3!=1.25.0,!=1.25.1,<1.26,>=1.21.1 in /usr/local/lib/python3.6/dist-packages (from requests<3,>=2.21.0->tensorboard>=2.2.0->pytorch-lightning==1.0.2->exatrkx==1.1.1) (1.24.3)\n",
      "Requirement already satisfied: idna<3,>=2.5 in /usr/local/lib/python3.6/dist-packages (from requests<3,>=2.21.0->tensorboard>=2.2.0->pytorch-lightning==1.0.2->exatrkx==1.1.1) (2.10)\n",
      "Requirement already satisfied: chardet<4,>=3.0.2 in /usr/local/lib/python3.6/dist-packages (from requests<3,>=2.21.0->tensorboard>=2.2.0->pytorch-lightning==1.0.2->exatrkx==1.1.1) (3.0.4)\n",
      "Requirement already satisfied: pyasn1<0.5.0,>=0.4.6 in /usr/local/lib/python3.6/dist-packages (from pyasn1-modules>=0.2.1->google-auth<2,>=1.6.3->tensorboard>=2.2.0->pytorch-lightning==1.0.2->exatrkx==1.1.1) (0.4.8)\n",
      "Requirement already satisfied: oauthlib>=3.0.0 in /usr/local/lib/python3.6/dist-packages (from requests-oauthlib>=0.7.0->google-auth-oauthlib<0.5,>=0.4.1->tensorboard>=2.2.0->pytorch-lightning==1.0.2->exatrkx==1.1.1) (3.1.0)\n",
      "Requirement already satisfied: zipp>=0.5 in /usr/local/lib/python3.6/dist-packages (from importlib-metadata; python_version < \"3.8\"->markdown>=2.6.8->tensorboard>=2.2.0->pytorch-lightning==1.0.2->exatrkx==1.1.1) (3.4.0)\n",
      "Building wheels for collected packages: exatrkx, trackml, graph-nets, PyYAML, future\n",
      "  Building wheel for exatrkx (setup.py) ... \u001b[?25l\u001b[?25hdone\n",
      "  Created wheel for exatrkx: filename=exatrkx-1.1.1-cp36-none-any.whl size=59012 sha256=45c2485b57402b98ba837db0d400873f6d16fa11b8cfff3fe94ecefe22cc196c\n",
      "  Stored in directory: /tmp/pip-ephem-wheel-cache-iyycoogp/wheels/ad/3a/d9/25899098e90d47766f48508f03649dc9677ba7e40bb113082f\n",
      "  Building wheel for trackml (setup.py) ... \u001b[?25l\u001b[?25hdone\n",
      "  Created wheel for trackml: filename=trackml-3-py2.py3-none-any.whl size=13511 sha256=f35cebf7d1805da31a45e71d6412fd6b5c5fbab8077451bd5e7468fd829e211a\n",
      "  Stored in directory: /tmp/pip-ephem-wheel-cache-iyycoogp/wheels/c0/50/07/a46f59148ec79e61c8ea5d4de7c5f956b9a44a5c7967682482\n",
      "  Building wheel for graph-nets (setup.py) ... \u001b[?25l\u001b[?25hdone\n",
      "  Created wheel for graph-nets: filename=graph_nets-1.1.0-cp36-none-any.whl size=91865 sha256=7f8333a33325aa6f595a15943d0199a9e3a836c6abeb959a22963a6bb3a5b28a\n",
      "  Stored in directory: /root/.cache/pip/wheels/c9/85/dc/ad3c616f83f0774ff12d6d7599850f56d82976e8590e59e864\n",
      "  Building wheel for PyYAML (setup.py) ... \u001b[?25l\u001b[?25hdone\n",
      "  Created wheel for PyYAML: filename=PyYAML-5.3.1-cp36-cp36m-linux_x86_64.whl size=44619 sha256=bf8cd9d6884b2f4a8cc7ebe58abb9c956318d988f2495e8b64dc8992cbfb1972\n",
      "  Stored in directory: /root/.cache/pip/wheels/a7/c1/ea/cf5bd31012e735dc1dfea3131a2d5eae7978b251083d6247bd\n",
      "  Building wheel for future (setup.py) ... \u001b[?25l\u001b[?25hdone\n",
      "  Created wheel for future: filename=future-0.18.2-cp36-none-any.whl size=491057 sha256=679f20a3f3452ae4327925cfe557db7d2d26c60ec028d2c0d9c34072c88674fc\n",
      "  Stored in directory: /root/.cache/pip/wheels/8b/99/a0/81daf51dcd359a9377b110a8a886b3895921802d2fc1b2397e\n",
      "Successfully built exatrkx trackml graph-nets PyYAML future\n",
      "Installing collected packages: fsspec, PyYAML, future, pytorch-lightning, faiss-gpu, trackml, dm-sonnet, graph-nets, exatrkx\n",
      "  Found existing installation: PyYAML 3.13\n",
      "    Uninstalling PyYAML-3.13:\n",
      "      Successfully uninstalled PyYAML-3.13\n",
      "  Found existing installation: future 0.16.0\n",
      "    Uninstalling future-0.16.0:\n",
      "      Successfully uninstalled future-0.16.0\n",
      "Successfully installed PyYAML-5.3.1 dm-sonnet-2.0.0 exatrkx-1.1.1 faiss-gpu-1.6.4.post2 fsspec-0.8.4 future-0.18.2 graph-nets-1.1.0 pytorch-lightning-1.0.2 trackml-3\n"
     ]
    },
    {
     "data": {
      "application/vnd.colab-display-data+json": {
       "pip_warning": {
        "packages": [
         "yaml"
        ]
       }
      }
     },
     "metadata": {
      "tags": []
     },
     "output_type": "display_data"
    }
   ],
   "source": [
    "!pip install git+https://github.com/exatrkx/exatrkx-iml2020.git@v1.1.1"
   ]
  },
  {
   "cell_type": "code",
   "execution_count": null,
   "metadata": {
    "colab": {
     "base_uri": "https://localhost:8080/"
    },
    "id": "jSwOVG79xDOd",
    "outputId": "230571c5-ad2f-4a26-d18c-7d272c5dfd58"
   },
   "outputs": [
    {
     "name": "stdout",
     "output_type": "stream",
     "text": [
      "Looking in links: https://pytorch-geometric.com/whl/torch-1.6.0.html\n",
      "Collecting torch-scatter==latest+cu101\n",
      "\u001b[?25l  Downloading https://pytorch-geometric.com/whl/torch-1.6.0/torch_scatter-latest%2Bcu101-cp36-cp36m-linux_x86_64.whl (11.5MB)\n",
      "\u001b[K     |████████████████████████████████| 11.5MB 12.8MB/s \n",
      "\u001b[?25hInstalling collected packages: torch-scatter\n",
      "Successfully installed torch-scatter-2.0.5\n",
      "Looking in links: https://pytorch-geometric.com/whl/torch-1.6.0.html\n",
      "Collecting torch-sparse==latest+cu101\n",
      "\u001b[?25l  Downloading https://pytorch-geometric.com/whl/torch-1.6.0/torch_sparse-latest%2Bcu101-cp36-cp36m-linux_x86_64.whl (22.9MB)\n",
      "\u001b[K     |████████████████████████████████| 22.9MB 24.0MB/s \n",
      "\u001b[?25hRequirement already satisfied: scipy in /usr/local/lib/python3.6/dist-packages (from torch-sparse==latest+cu101) (1.4.1)\n",
      "Requirement already satisfied: numpy>=1.13.3 in /usr/local/lib/python3.6/dist-packages (from scipy->torch-sparse==latest+cu101) (1.18.5)\n",
      "Installing collected packages: torch-sparse\n",
      "Successfully installed torch-sparse-0.6.8\n",
      "Looking in links: https://pytorch-geometric.com/whl/torch-1.6.0.html\n",
      "Collecting torch-cluster==latest+cu101\n",
      "\u001b[?25l  Downloading https://pytorch-geometric.com/whl/torch-1.6.0/torch_cluster-latest%2Bcu101-cp36-cp36m-linux_x86_64.whl (20.4MB)\n",
      "\u001b[K     |████████████████████████████████| 20.4MB 248kB/s \n",
      "\u001b[?25hInstalling collected packages: torch-cluster\n",
      "Successfully installed torch-cluster-1.5.8\n",
      "Looking in links: https://pytorch-geometric.com/whl/torch-1.6.0.html\n",
      "Collecting torch-spline-conv==latest+cu101\n",
      "\u001b[?25l  Downloading https://pytorch-geometric.com/whl/torch-1.6.0/torch_spline_conv-latest%2Bcu101-cp36-cp36m-linux_x86_64.whl (6.1MB)\n",
      "\u001b[K     |████████████████████████████████| 6.1MB 9.2MB/s \n",
      "\u001b[?25hInstalling collected packages: torch-spline-conv\n",
      "Successfully installed torch-spline-conv-1.2.0\n",
      "Collecting torch-geometric\n",
      "\u001b[?25l  Downloading https://files.pythonhosted.org/packages/88/67/6c0bce6b6e6bc806e25d996e46a686e5a11254d89257983265a988bb02ee/torch_geometric-1.6.1.tar.gz (178kB)\n",
      "\u001b[K     |████████████████████████████████| 184kB 8.6MB/s \n",
      "\u001b[?25hRequirement already satisfied: torch in /usr/local/lib/python3.6/dist-packages (from torch-geometric) (1.6.0+cu101)\n",
      "Requirement already satisfied: numpy in /usr/local/lib/python3.6/dist-packages (from torch-geometric) (1.18.5)\n",
      "Requirement already satisfied: tqdm in /usr/local/lib/python3.6/dist-packages (from torch-geometric) (4.41.1)\n",
      "Requirement already satisfied: scipy in /usr/local/lib/python3.6/dist-packages (from torch-geometric) (1.4.1)\n",
      "Requirement already satisfied: networkx in /usr/local/lib/python3.6/dist-packages (from torch-geometric) (2.5)\n",
      "Requirement already satisfied: scikit-learn in /usr/local/lib/python3.6/dist-packages (from torch-geometric) (0.22.2.post1)\n",
      "Requirement already satisfied: numba in /usr/local/lib/python3.6/dist-packages (from torch-geometric) (0.48.0)\n",
      "Requirement already satisfied: requests in /usr/local/lib/python3.6/dist-packages (from torch-geometric) (2.23.0)\n",
      "Requirement already satisfied: pandas in /usr/local/lib/python3.6/dist-packages (from torch-geometric) (1.1.4)\n",
      "Collecting rdflib\n",
      "\u001b[?25l  Downloading https://files.pythonhosted.org/packages/d0/6b/6454aa1db753c0f8bc265a5bd5c10b5721a4bb24160fb4faf758cf6be8a1/rdflib-5.0.0-py3-none-any.whl (231kB)\n",
      "\u001b[K     |████████████████████████████████| 235kB 12.6MB/s \n",
      "\u001b[?25hRequirement already satisfied: h5py in /usr/local/lib/python3.6/dist-packages (from torch-geometric) (2.10.0)\n",
      "Requirement already satisfied: googledrivedownloader in /usr/local/lib/python3.6/dist-packages (from torch-geometric) (0.4)\n",
      "Collecting ase\n",
      "\u001b[?25l  Downloading https://files.pythonhosted.org/packages/51/78/edadb45c7f26f8fbb99da81feadb561c26bb0393b6c5d1ac200ecdc12d61/ase-3.20.1-py3-none-any.whl (2.2MB)\n",
      "\u001b[K     |████████████████████████████████| 2.2MB 14.1MB/s \n",
      "\u001b[?25hRequirement already satisfied: jinja2 in /usr/local/lib/python3.6/dist-packages (from torch-geometric) (2.11.2)\n",
      "Requirement already satisfied: future in /usr/local/lib/python3.6/dist-packages (from torch->torch-geometric) (0.18.2)\n",
      "Requirement already satisfied: decorator>=4.3.0 in /usr/local/lib/python3.6/dist-packages (from networkx->torch-geometric) (4.4.2)\n",
      "Requirement already satisfied: joblib>=0.11 in /usr/local/lib/python3.6/dist-packages (from scikit-learn->torch-geometric) (0.17.0)\n",
      "Requirement already satisfied: setuptools in /usr/local/lib/python3.6/dist-packages (from numba->torch-geometric) (50.3.2)\n",
      "Requirement already satisfied: llvmlite<0.32.0,>=0.31.0dev0 in /usr/local/lib/python3.6/dist-packages (from numba->torch-geometric) (0.31.0)\n",
      "Requirement already satisfied: chardet<4,>=3.0.2 in /usr/local/lib/python3.6/dist-packages (from requests->torch-geometric) (3.0.4)\n",
      "Requirement already satisfied: certifi>=2017.4.17 in /usr/local/lib/python3.6/dist-packages (from requests->torch-geometric) (2020.11.8)\n",
      "Requirement already satisfied: idna<3,>=2.5 in /usr/local/lib/python3.6/dist-packages (from requests->torch-geometric) (2.10)\n",
      "Requirement already satisfied: urllib3!=1.25.0,!=1.25.1,<1.26,>=1.21.1 in /usr/local/lib/python3.6/dist-packages (from requests->torch-geometric) (1.24.3)\n",
      "Requirement already satisfied: pytz>=2017.2 in /usr/local/lib/python3.6/dist-packages (from pandas->torch-geometric) (2018.9)\n",
      "Requirement already satisfied: python-dateutil>=2.7.3 in /usr/local/lib/python3.6/dist-packages (from pandas->torch-geometric) (2.8.1)\n",
      "Requirement already satisfied: six in /usr/local/lib/python3.6/dist-packages (from rdflib->torch-geometric) (1.15.0)\n",
      "Requirement already satisfied: pyparsing in /usr/local/lib/python3.6/dist-packages (from rdflib->torch-geometric) (2.4.7)\n",
      "Collecting isodate\n",
      "\u001b[?25l  Downloading https://files.pythonhosted.org/packages/9b/9f/b36f7774ff5ea8e428fdcfc4bb332c39ee5b9362ddd3d40d9516a55221b2/isodate-0.6.0-py2.py3-none-any.whl (45kB)\n",
      "\u001b[K     |████████████████████████████████| 51kB 5.3MB/s \n",
      "\u001b[?25hRequirement already satisfied: matplotlib>=2.0.0 in /usr/local/lib/python3.6/dist-packages (from ase->torch-geometric) (3.2.2)\n",
      "Requirement already satisfied: MarkupSafe>=0.23 in /usr/local/lib/python3.6/dist-packages (from jinja2->torch-geometric) (1.1.1)\n",
      "Requirement already satisfied: kiwisolver>=1.0.1 in /usr/local/lib/python3.6/dist-packages (from matplotlib>=2.0.0->ase->torch-geometric) (1.3.1)\n",
      "Requirement already satisfied: cycler>=0.10 in /usr/local/lib/python3.6/dist-packages (from matplotlib>=2.0.0->ase->torch-geometric) (0.10.0)\n",
      "Building wheels for collected packages: torch-geometric\n",
      "  Building wheel for torch-geometric (setup.py) ... \u001b[?25l\u001b[?25hdone\n",
      "  Created wheel for torch-geometric: filename=torch_geometric-1.6.1-cp36-none-any.whl size=308552 sha256=181c96cd8c7251b1f568629085cdd662ecd0af187d391a88a1913f400c87b9a9\n",
      "  Stored in directory: /root/.cache/pip/wheels/e6/25/ea/3d71d2088dccc63214fa59259dcc598ded4150a5f8b41d84ff\n",
      "Successfully built torch-geometric\n",
      "Installing collected packages: isodate, rdflib, ase, torch-geometric\n",
      "Successfully installed ase-3.20.1 isodate-0.6.0 rdflib-5.0.0 torch-geometric-1.6.1\n"
     ]
    }
   ],
   "source": [
    "!install_geometric.sh"
   ]
  },
  {
   "cell_type": "code",
   "execution_count": null,
   "metadata": {
    "colab": {
     "base_uri": "https://localhost:8080/"
    },
    "id": "76ecgL3hvlNF",
    "outputId": "968d9cd2-4cbe-45c0-edf8-c9184cf65a6a"
   },
   "outputs": [
    {
     "name": "stdout",
     "output_type": "stream",
     "text": [
      "Collecting mpi4py\n",
      "\u001b[?25l  Downloading https://files.pythonhosted.org/packages/ec/8f/bbd8de5ba566dd77e408d8136e2bab7fdf2b97ce06cab830ba8b50a2f588/mpi4py-3.0.3.tar.gz (1.4MB)\n",
      "\u001b[K     |████████████████████████████████| 1.4MB 8.0MB/s \n",
      "\u001b[?25hBuilding wheels for collected packages: mpi4py\n",
      "  Building wheel for mpi4py (setup.py) ... \u001b[?25l\u001b[?25hdone\n",
      "  Created wheel for mpi4py: filename=mpi4py-3.0.3-cp36-cp36m-linux_x86_64.whl size=2074483 sha256=8af195fc927310c13dbb853f639502c226e37701c4333b3688bb074c4f34c957\n",
      "  Stored in directory: /root/.cache/pip/wheels/18/e0/86/2b713dd512199096012ceca61429e12b960888de59818871d6\n",
      "Successfully built mpi4py\n",
      "Installing collected packages: mpi4py\n",
      "Successfully installed mpi4py-3.0.3\n"
     ]
    }
   ],
   "source": [
    "!pip install mpi4py"
   ]
  },
  {
   "cell_type": "markdown",
   "metadata": {
    "id": "EmpRUtllNXh_"
   },
   "source": [
    "Restart the runtime manually, otherwise Horovod could not be installed."
   ]
  },
  {
   "cell_type": "code",
   "execution_count": null,
   "metadata": {
    "colab": {
     "base_uri": "https://localhost:8080/"
    },
    "id": "TVP6aIjTNKCJ",
    "outputId": "6926757b-2d2f-419e-e5d6-fba8d2386f56"
   },
   "outputs": [
    {
     "name": "stdout",
     "output_type": "stream",
     "text": [
      "gcc (Ubuntu 7.5.0-3ubuntu1~18.04) 7.5.0\n",
      "Copyright (C) 2017 Free Software Foundation, Inc.\n",
      "This is free software; see the source for copying conditions.  There is NO\n",
      "warranty; not even for MERCHANTABILITY or FITNESS FOR A PARTICULAR PURPOSE.\n",
      "\n"
     ]
    }
   ],
   "source": [
    "!gcc --version"
   ]
  },
  {
   "cell_type": "code",
   "execution_count": null,
   "metadata": {
    "colab": {
     "base_uri": "https://localhost:8080/"
    },
    "id": "MmVSAqPdv0cw",
    "outputId": "984a1ad3-1051-4098-fc43-53269c4d9440"
   },
   "outputs": [
    {
     "name": "stdout",
     "output_type": "stream",
     "text": [
      "Collecting horovod\n",
      "\u001b[?25l  Downloading https://files.pythonhosted.org/packages/65/b2/9da3f1ad59a6d15263228e8e01ad3a4ee6c7233756abfb08813203ebaa11/horovod-0.21.0.tar.gz (3.2MB)\n",
      "\u001b[K     |████████████████████████████████| 3.2MB 9.2MB/s \n",
      "\u001b[?25hRequirement already satisfied: cloudpickle in /usr/local/lib/python3.6/dist-packages (from horovod) (1.3.0)\n",
      "Requirement already satisfied: psutil in /usr/local/lib/python3.6/dist-packages (from horovod) (5.4.8)\n",
      "Requirement already satisfied: pyyaml in /usr/local/lib/python3.6/dist-packages (from horovod) (5.3.1)\n",
      "Requirement already satisfied: cffi>=1.4.0 in /usr/local/lib/python3.6/dist-packages (from horovod) (1.14.3)\n",
      "Requirement already satisfied: dataclasses in /usr/local/lib/python3.6/dist-packages (from horovod) (0.8)\n",
      "Requirement already satisfied: pycparser in /usr/local/lib/python3.6/dist-packages (from cffi>=1.4.0->horovod) (2.20)\n",
      "Building wheels for collected packages: horovod\n",
      "  Building wheel for horovod (setup.py) ... \u001b[?25l\u001b[?25hdone\n",
      "  Created wheel for horovod: filename=horovod-0.21.0-cp36-cp36m-linux_x86_64.whl size=21535893 sha256=0ca211d1ce742def4f45c3d7214bb9cf33e330ea7153d1069e51d40323145b58\n",
      "  Stored in directory: /tmp/pip-ephem-wheel-cache-6ukuhozj/wheels/ad/0c/ea/6bd706effa600df0cc11074f75e5fd8dd2d66a979cb4ae5219\n",
      "Successfully built horovod\n",
      "Installing collected packages: horovod\n",
      "Successfully installed horovod-0.21.0\n"
     ]
    }
   ],
   "source": [
    "!HOROVOD_WITH_MPI=1 pip install horovod --no-cache-dir"
   ]
  },
  {
   "cell_type": "markdown",
   "metadata": {
    "id": "GVJGaQ1ONi57"
   },
   "source": [
    "Restart the runtime again to let new packages take effect."
   ]
  },
  {
   "cell_type": "markdown",
   "metadata": {
    "id": "xzPzi2DChQZ-"
   },
   "source": [
    "# Prepare input data"
   ]
  },
  {
   "cell_type": "code",
   "execution_count": null,
   "metadata": {
    "colab": {
     "base_uri": "https://localhost:8080/"
    },
    "id": "1p5BU0OF3I2C",
    "outputId": "799b6168-215e-47f5-cfe2-9169885b5a84"
   },
   "outputs": [],
   "source": [
    "%%bash\n",
    "wget https://portal.nersc.gov/project/atlas/xju/train_10evts.tar\n",
    "tar xzf train_10evts.tar\n",
    "rm train_10evts.tar"
   ]
  },
  {
   "cell_type": "code",
   "execution_count": null,
   "metadata": {
    "colab": {
     "base_uri": "https://localhost:8080/"
    },
    "id": "DPKzd6Y4xbLn",
    "outputId": "942a3cec-e966-46cb-be12-a37cafffa0f8"
   },
   "outputs": [
    {
     "name": "stdout",
     "output_type": "stream",
     "text": [
      "detectors.csv  iml2020\tsample_data  train_10evts\n"
     ]
    }
   ],
   "source": [
    "!ls"
   ]
  },
  {
   "cell_type": "code",
   "execution_count": null,
   "metadata": {
    "colab": {
     "base_uri": "https://localhost:8080/"
    },
    "id": "w132J3fJ3DCv",
    "outputId": "e45d5c9e-688b-49da-9388-eea6beefa49c"
   },
   "outputs": [
    {
     "name": "stdout",
     "output_type": "stream",
     "text": [
      "event000001000-cells.csv      event000001005-cells.csv\n",
      "event000001000-hits.csv       event000001005-hits.csv\n",
      "event000001000-particles.csv  event000001005-particles.csv\n",
      "event000001000-truth.csv      event000001005-truth.csv\n",
      "event000001001-cells.csv      event000001006-cells.csv\n",
      "event000001001-hits.csv       event000001006-hits.csv\n",
      "event000001001-particles.csv  event000001006-particles.csv\n",
      "event000001001-truth.csv      event000001006-truth.csv\n",
      "event000001002-cells.csv      event000001007-cells.csv\n",
      "event000001002-hits.csv       event000001007-hits.csv\n",
      "event000001002-particles.csv  event000001007-particles.csv\n",
      "event000001002-truth.csv      event000001007-truth.csv\n",
      "event000001003-cells.csv      event000001008-cells.csv\n",
      "event000001003-hits.csv       event000001008-hits.csv\n",
      "event000001003-particles.csv  event000001008-particles.csv\n",
      "event000001003-truth.csv      event000001008-truth.csv\n",
      "event000001004-cells.csv      event000001009-cells.csv\n",
      "event000001004-hits.csv       event000001009-hits.csv\n",
      "event000001004-particles.csv  event000001009-particles.csv\n",
      "event000001004-truth.csv      event000001009-truth.csv\n"
     ]
    }
   ],
   "source": [
    "!ls train_10evts/"
   ]
  },
  {
   "cell_type": "code",
   "execution_count": null,
   "metadata": {
    "colab": {
     "base_uri": "https://localhost:8080/"
    },
    "id": "DW1VmR9yxlMm",
    "outputId": "18debe0f-3ca7-4a21-f607-14a38ca4213f"
   },
   "outputs": [
    {
     "name": "stdout",
     "output_type": "stream",
     "text": [
      "/content\n"
     ]
    }
   ],
   "source": [
    "!pwd"
   ]
  },
  {
   "cell_type": "markdown",
   "metadata": {
    "id": "Yt-z97CSbLCv"
   },
   "source": [
    "# Introduction\n",
    "\n",
    "The code locates at [exatrkx-iml2020](https://github.com/exatrkx/exatrkx-iml2020). The code structure is the following:\n"
   ]
  },
  {
   "cell_type": "markdown",
   "metadata": {
    "id": "nfvLlWSRs6mY"
   },
   "source": [
    "```text\n",
    "exatrkx\n",
    "├── __init__.py\n",
    "├── configs\n",
    "│   ├── prepare_feature_store.yaml\n",
    "│   ├── train_embedding.yaml\n",
    "│   └── train_filter.yaml\n",
    "├── scripts\n",
    "│   ├── run_lightning.py\n",
    "│   ├── convert2tf.py\n",
    "│   ├── train_gnn_tf.py\n",
    "│   ├── eval_gnn_tf.py\n",
    "│   ├── tracks_from_gnn.py\n",
    "│   ├── count_node_edges.py\n",
    "│   └── install_geometric.sh\n",
    "└── src\n",
    "    ├── processing\n",
    "    │   ├── __init__.py\n",
    "    │   ├── cell_direction_utils/\n",
    "    │   ├── feature_construction.py\n",
    "    │   └── utils.py\n",
    "    ├── embedding\n",
    "    │   ├── __init__.py\n",
    "    │   ├── embedding_base.py\n",
    "    │   ├── layerless_embedding.py\n",
    "    ├── filter\n",
    "    │   ├── __init__.py\n",
    "    │   ├── filter_base.py\n",
    "    │   └── vanilla_filter.py\n",
    "    ├── tfgraphs/\n",
    "    ├── torchgnn/\n",
    "    ├── utils_dir.py\n",
    "    └── utils_torch.py\n",
    "```"
   ]
  },
  {
   "cell_type": "markdown",
   "metadata": {
    "id": "XTtIJJ5xdQmV"
   },
   "source": [
    "Everytime the runtime is restarted, the following two cells should be executed. The code requires two input directories via two global environment variables, and use the two variables to internally organizes output directories."
   ]
  },
  {
   "cell_type": "code",
   "execution_count": null,
   "metadata": {
    "id": "GkzmYSb20dKY"
   },
   "outputs": [],
   "source": [
    "import os\n",
    "os.environ['TRKXINPUTDIR'] = \"/content/train_10evts\"\n",
    "os.environ['TRKXOUTPUTDIR'] = \"/content/iml2020\""
   ]
  },
  {
   "cell_type": "code",
   "execution_count": null,
   "metadata": {
    "id": "HxarVh20DMQO"
   },
   "outputs": [],
   "source": [
    "# system import\n",
    "import pkg_resources\n",
    "import yaml\n",
    "import pprint\n",
    "\n",
    "# 3rd party\n",
    "import torch\n",
    "from trackml.dataset import load_event\n",
    "from pytorch_lightning import Trainer\n",
    "from pytorch_lightning.callbacks import ModelCheckpoint\n",
    "\n",
    "# local import\n",
    "from exatrkx import config_dict # for accessing predefined configuration files\n",
    "from exatrkx import outdir_dict # for accessing predefined output directories\n",
    "from exatrkx.src import utils_dir\n",
    "\n",
    "\n",
    "# for preprocessing\n",
    "from exatrkx import FeatureStore\n",
    "\n",
    "# for embedding\n",
    "from exatrkx import LayerlessEmbedding\n",
    "from exatrkx import EmbeddingInferenceCallback\n",
    "# for filtering\n",
    "from exatrkx import VanillaFilter\n",
    "from exatrkx import FilterInferenceCallback"
   ]
  },
  {
   "cell_type": "markdown",
   "metadata": {
    "id": "7MLChNxzH1F4"
   },
   "source": [
    "# Pre-processing"
   ]
  },
  {
   "cell_type": "markdown",
   "metadata": {
    "id": "srOxaP8ed_HK"
   },
   "source": [
    "A quick recap of the input dataset from the [tracking ML challenge](https://www.kaggle.com/c/trackml-particle-identification)."
   ]
  },
  {
   "cell_type": "code",
   "execution_count": null,
   "metadata": {
    "id": "MBlSXGePKrjo"
   },
   "outputs": [],
   "source": [
    "hits, cell, particles, truth = load_event(\"/content/train_10evts/event000001000\")"
   ]
  },
  {
   "cell_type": "code",
   "execution_count": null,
   "metadata": {
    "colab": {
     "base_uri": "https://localhost:8080/",
     "height": 143
    },
    "id": "XqIfjlDpfUd4",
    "outputId": "f8339a29-c24c-49a1-fe8c-42e3abca2196"
   },
   "outputs": [
    {
     "data": {
      "text/html": [
       "<div>\n",
       "<style scoped>\n",
       "    .dataframe tbody tr th:only-of-type {\n",
       "        vertical-align: middle;\n",
       "    }\n",
       "\n",
       "    .dataframe tbody tr th {\n",
       "        vertical-align: top;\n",
       "    }\n",
       "\n",
       "    .dataframe thead th {\n",
       "        text-align: right;\n",
       "    }\n",
       "</style>\n",
       "<table border=\"1\" class=\"dataframe\">\n",
       "  <thead>\n",
       "    <tr style=\"text-align: right;\">\n",
       "      <th></th>\n",
       "      <th>hit_id</th>\n",
       "      <th>x</th>\n",
       "      <th>y</th>\n",
       "      <th>z</th>\n",
       "      <th>volume_id</th>\n",
       "      <th>layer_id</th>\n",
       "      <th>module_id</th>\n",
       "    </tr>\n",
       "  </thead>\n",
       "  <tbody>\n",
       "    <tr>\n",
       "      <th>0</th>\n",
       "      <td>1</td>\n",
       "      <td>-64.409897</td>\n",
       "      <td>-7.163700</td>\n",
       "      <td>-1502.5</td>\n",
       "      <td>7</td>\n",
       "      <td>2</td>\n",
       "      <td>1</td>\n",
       "    </tr>\n",
       "    <tr>\n",
       "      <th>1</th>\n",
       "      <td>2</td>\n",
       "      <td>-55.336102</td>\n",
       "      <td>0.635342</td>\n",
       "      <td>-1502.5</td>\n",
       "      <td>7</td>\n",
       "      <td>2</td>\n",
       "      <td>1</td>\n",
       "    </tr>\n",
       "    <tr>\n",
       "      <th>2</th>\n",
       "      <td>3</td>\n",
       "      <td>-83.830498</td>\n",
       "      <td>-1.143010</td>\n",
       "      <td>-1502.5</td>\n",
       "      <td>7</td>\n",
       "      <td>2</td>\n",
       "      <td>1</td>\n",
       "    </tr>\n",
       "  </tbody>\n",
       "</table>\n",
       "</div>"
      ],
      "text/plain": [
       "   hit_id          x         y       z  volume_id  layer_id  module_id\n",
       "0       1 -64.409897 -7.163700 -1502.5          7         2          1\n",
       "1       2 -55.336102  0.635342 -1502.5          7         2          1\n",
       "2       3 -83.830498 -1.143010 -1502.5          7         2          1"
      ]
     },
     "execution_count": 8,
     "metadata": {
      "tags": []
     },
     "output_type": "execute_result"
    }
   ],
   "source": [
    "hits.head(3)"
   ]
  },
  {
   "cell_type": "code",
   "execution_count": null,
   "metadata": {
    "colab": {
     "base_uri": "https://localhost:8080/",
     "height": 143
    },
    "id": "z1zrJGa_fXUe",
    "outputId": "b936f3e2-3a80-4f14-d264-98f5d74717fa"
   },
   "outputs": [
    {
     "data": {
      "text/html": [
       "<div>\n",
       "<style scoped>\n",
       "    .dataframe tbody tr th:only-of-type {\n",
       "        vertical-align: middle;\n",
       "    }\n",
       "\n",
       "    .dataframe tbody tr th {\n",
       "        vertical-align: top;\n",
       "    }\n",
       "\n",
       "    .dataframe thead th {\n",
       "        text-align: right;\n",
       "    }\n",
       "</style>\n",
       "<table border=\"1\" class=\"dataframe\">\n",
       "  <thead>\n",
       "    <tr style=\"text-align: right;\">\n",
       "      <th></th>\n",
       "      <th>hit_id</th>\n",
       "      <th>ch0</th>\n",
       "      <th>ch1</th>\n",
       "      <th>value</th>\n",
       "    </tr>\n",
       "  </thead>\n",
       "  <tbody>\n",
       "    <tr>\n",
       "      <th>0</th>\n",
       "      <td>1</td>\n",
       "      <td>209</td>\n",
       "      <td>617</td>\n",
       "      <td>0.013832</td>\n",
       "    </tr>\n",
       "    <tr>\n",
       "      <th>1</th>\n",
       "      <td>1</td>\n",
       "      <td>210</td>\n",
       "      <td>617</td>\n",
       "      <td>0.079887</td>\n",
       "    </tr>\n",
       "    <tr>\n",
       "      <th>2</th>\n",
       "      <td>1</td>\n",
       "      <td>209</td>\n",
       "      <td>618</td>\n",
       "      <td>0.211723</td>\n",
       "    </tr>\n",
       "  </tbody>\n",
       "</table>\n",
       "</div>"
      ],
      "text/plain": [
       "   hit_id  ch0  ch1     value\n",
       "0       1  209  617  0.013832\n",
       "1       1  210  617  0.079887\n",
       "2       1  209  618  0.211723"
      ]
     },
     "execution_count": 9,
     "metadata": {
      "tags": []
     },
     "output_type": "execute_result"
    }
   ],
   "source": [
    "cell.head(3)"
   ]
  },
  {
   "cell_type": "code",
   "execution_count": null,
   "metadata": {
    "colab": {
     "base_uri": "https://localhost:8080/",
     "height": 143
    },
    "id": "z_6unhgMfY_S",
    "outputId": "04b84b1a-90c1-4448-e7cd-17a81aba6b45"
   },
   "outputs": [
    {
     "data": {
      "text/html": [
       "<div>\n",
       "<style scoped>\n",
       "    .dataframe tbody tr th:only-of-type {\n",
       "        vertical-align: middle;\n",
       "    }\n",
       "\n",
       "    .dataframe tbody tr th {\n",
       "        vertical-align: top;\n",
       "    }\n",
       "\n",
       "    .dataframe thead th {\n",
       "        text-align: right;\n",
       "    }\n",
       "</style>\n",
       "<table border=\"1\" class=\"dataframe\">\n",
       "  <thead>\n",
       "    <tr style=\"text-align: right;\">\n",
       "      <th></th>\n",
       "      <th>particle_id</th>\n",
       "      <th>vx</th>\n",
       "      <th>vy</th>\n",
       "      <th>vz</th>\n",
       "      <th>px</th>\n",
       "      <th>py</th>\n",
       "      <th>pz</th>\n",
       "      <th>q</th>\n",
       "      <th>nhits</th>\n",
       "    </tr>\n",
       "  </thead>\n",
       "  <tbody>\n",
       "    <tr>\n",
       "      <th>0</th>\n",
       "      <td>4503668346847232</td>\n",
       "      <td>-0.009288</td>\n",
       "      <td>0.009861</td>\n",
       "      <td>-0.077879</td>\n",
       "      <td>-0.055269</td>\n",
       "      <td>0.323272</td>\n",
       "      <td>-0.203492</td>\n",
       "      <td>-1</td>\n",
       "      <td>8</td>\n",
       "    </tr>\n",
       "    <tr>\n",
       "      <th>1</th>\n",
       "      <td>4503737066323968</td>\n",
       "      <td>-0.009288</td>\n",
       "      <td>0.009861</td>\n",
       "      <td>-0.077879</td>\n",
       "      <td>-0.948125</td>\n",
       "      <td>0.470892</td>\n",
       "      <td>2.010060</td>\n",
       "      <td>1</td>\n",
       "      <td>11</td>\n",
       "    </tr>\n",
       "    <tr>\n",
       "      <th>2</th>\n",
       "      <td>4503805785800704</td>\n",
       "      <td>-0.009288</td>\n",
       "      <td>0.009861</td>\n",
       "      <td>-0.077879</td>\n",
       "      <td>-0.886484</td>\n",
       "      <td>0.105749</td>\n",
       "      <td>0.683881</td>\n",
       "      <td>-1</td>\n",
       "      <td>0</td>\n",
       "    </tr>\n",
       "  </tbody>\n",
       "</table>\n",
       "</div>"
      ],
      "text/plain": [
       "        particle_id        vx        vy        vz  ...        py        pz  q  nhits\n",
       "0  4503668346847232 -0.009288  0.009861 -0.077879  ...  0.323272 -0.203492 -1      8\n",
       "1  4503737066323968 -0.009288  0.009861 -0.077879  ...  0.470892  2.010060  1     11\n",
       "2  4503805785800704 -0.009288  0.009861 -0.077879  ...  0.105749  0.683881 -1      0\n",
       "\n",
       "[3 rows x 9 columns]"
      ]
     },
     "execution_count": 10,
     "metadata": {
      "tags": []
     },
     "output_type": "execute_result"
    }
   ],
   "source": [
    "particles.head(3)"
   ]
  },
  {
   "cell_type": "code",
   "execution_count": null,
   "metadata": {
    "colab": {
     "base_uri": "https://localhost:8080/",
     "height": 143
    },
    "id": "eqXp7J0KfazZ",
    "outputId": "2d903302-8089-4a15-ec95-7f7add42185a"
   },
   "outputs": [
    {
     "data": {
      "text/html": [
       "<div>\n",
       "<style scoped>\n",
       "    .dataframe tbody tr th:only-of-type {\n",
       "        vertical-align: middle;\n",
       "    }\n",
       "\n",
       "    .dataframe tbody tr th {\n",
       "        vertical-align: top;\n",
       "    }\n",
       "\n",
       "    .dataframe thead th {\n",
       "        text-align: right;\n",
       "    }\n",
       "</style>\n",
       "<table border=\"1\" class=\"dataframe\">\n",
       "  <thead>\n",
       "    <tr style=\"text-align: right;\">\n",
       "      <th></th>\n",
       "      <th>hit_id</th>\n",
       "      <th>particle_id</th>\n",
       "      <th>tx</th>\n",
       "      <th>ty</th>\n",
       "      <th>tz</th>\n",
       "      <th>tpx</th>\n",
       "      <th>tpy</th>\n",
       "      <th>tpz</th>\n",
       "      <th>weight</th>\n",
       "    </tr>\n",
       "  </thead>\n",
       "  <tbody>\n",
       "    <tr>\n",
       "      <th>0</th>\n",
       "      <td>1</td>\n",
       "      <td>0</td>\n",
       "      <td>-64.411598</td>\n",
       "      <td>-7.164120</td>\n",
       "      <td>-1502.5</td>\n",
       "      <td>250710.000000</td>\n",
       "      <td>-149908.00000</td>\n",
       "      <td>-956385.0000</td>\n",
       "      <td>0.00000</td>\n",
       "    </tr>\n",
       "    <tr>\n",
       "      <th>1</th>\n",
       "      <td>2</td>\n",
       "      <td>22525763437723648</td>\n",
       "      <td>-55.338501</td>\n",
       "      <td>0.630805</td>\n",
       "      <td>-1502.5</td>\n",
       "      <td>-0.570605</td>\n",
       "      <td>0.02839</td>\n",
       "      <td>-15.4922</td>\n",
       "      <td>0.00001</td>\n",
       "    </tr>\n",
       "    <tr>\n",
       "      <th>2</th>\n",
       "      <td>3</td>\n",
       "      <td>0</td>\n",
       "      <td>-83.828003</td>\n",
       "      <td>-1.145580</td>\n",
       "      <td>-1502.5</td>\n",
       "      <td>626295.000000</td>\n",
       "      <td>-169767.00000</td>\n",
       "      <td>-760877.0000</td>\n",
       "      <td>0.00000</td>\n",
       "    </tr>\n",
       "  </tbody>\n",
       "</table>\n",
       "</div>"
      ],
      "text/plain": [
       "   hit_id        particle_id         tx  ...           tpy          tpz   weight\n",
       "0       1                  0 -64.411598  ... -149908.00000 -956385.0000  0.00000\n",
       "1       2  22525763437723648 -55.338501  ...       0.02839     -15.4922  0.00001\n",
       "2       3                  0 -83.828003  ... -169767.00000 -760877.0000  0.00000\n",
       "\n",
       "[3 rows x 9 columns]"
      ]
     },
     "execution_count": 11,
     "metadata": {
      "tags": []
     },
     "output_type": "execute_result"
    }
   ],
   "source": [
    "truth.head(3)"
   ]
  },
  {
   "cell_type": "code",
   "execution_count": null,
   "metadata": {
    "id": "Vauoy0c9DaQp"
   },
   "outputs": [],
   "source": []
  },
  {
   "cell_type": "code",
   "execution_count": null,
   "metadata": {
    "id": "CLTD43m8Djt0"
   },
   "outputs": [],
   "source": [
    "action = 'build'\n",
    "\n",
    "config_file = pkg_resources.resource_filename(\n",
    "                    \"exatrkx\",\n",
    "                    os.path.join('configs', config_dict[action]))\n",
    "with open(config_file) as f:\n",
    "  b_config = yaml.load(f, Loader=yaml.FullLoader)"
   ]
  },
  {
   "cell_type": "code",
   "execution_count": null,
   "metadata": {
    "colab": {
     "base_uri": "https://localhost:8080/"
    },
    "id": "UwB0uZhPB12K",
    "outputId": "d9539d9a-c889-4a07-8554-39b1790eaa45"
   },
   "outputs": [
    {
     "name": "stdout",
     "output_type": "stream",
     "text": [
      "{   'adjacent': True,\n",
      "    'cell_information': True,\n",
      "    'endcaps': False,\n",
      "    'layerless': True,\n",
      "    'layerwise': False,\n",
      "    'n_files': 100,\n",
      "    'n_tasks': 1,\n",
      "    'n_workers': 12,\n",
      "    'noise': False,\n",
      "    'pt_min': 1}\n"
     ]
    }
   ],
   "source": [
    "pp = pprint.PrettyPrinter(indent=4)\n",
    "pp.pprint(b_config)"
   ]
  },
  {
   "cell_type": "code",
   "execution_count": null,
   "metadata": {
    "id": "Cqf32SdmHXn-"
   },
   "outputs": [],
   "source": [
    "b_config['endcaps'] = False\n",
    "b_config['pt_min'] = 1.0 \n",
    "b_config['n_workers'] = 1\n",
    "b_config['cell_information'] = True\n",
    "b_config['n_files'] = 3 \n",
    "b_config['noise'] = False"
   ]
  },
  {
   "cell_type": "code",
   "execution_count": null,
   "metadata": {
    "colab": {
     "base_uri": "https://localhost:8080/"
    },
    "id": "TZxuV0lKHf7M",
    "outputId": "d6374004-25a7-43ec-b1c4-aa40f93784b4"
   },
   "outputs": [
    {
     "name": "stdout",
     "output_type": "stream",
     "text": [
      "Loading detector...\n",
      "Failed to load preprocessed detector. Building...\n",
      "  Extracting thicknesses...\n",
      "  Done.\n",
      "  Extracting rotations...\n",
      "  Done.\n",
      "Index(['volume_id', 'layer_id', 'module_id', 'cx', 'cy', 'cz', 'rot_xu',\n",
      "       'rot_xv', 'rot_xw', 'rot_yu', 'rot_yv', 'rot_yw', 'rot_zu', 'rot_zv',\n",
      "       'rot_zw', 'module_t', 'module_minhu', 'module_maxhu', 'module_hv',\n",
      "       'pitch_u', 'pitch_v'],\n",
      "      dtype='object')\n",
      "  Extracting thicknesses...\n",
      "  Done.\n",
      "Detector preprocessed and saved.\n",
      "Writing outputs to /content/iml2020/feature_store\n",
      "Preparing 1000\n",
      "Layerless truth graph built for /content/train_10evts/event000001000 with size (2, 7875)\n",
      "Cell features for 1000\n",
      "Loading event /content/train_10evts/event000001000 with a 0 pT cut\n",
      "Writing to  /content/iml2020/feature_store/1000\n",
      "Preparing 1001\n",
      "Layerless truth graph built for /content/train_10evts/event000001001 with size (2, 4876)\n",
      "Cell features for 1001\n",
      "Loading event /content/train_10evts/event000001001 with a 0 pT cut\n",
      "Writing to  /content/iml2020/feature_store/1001\n",
      "Preparing 1002\n",
      "Layerless truth graph built for /content/train_10evts/event000001002 with size (2, 8863)\n",
      "Cell features for 1002\n",
      "Loading event /content/train_10evts/event000001002 with a 0 pT cut\n",
      "Writing to  /content/iml2020/feature_store/1002\n"
     ]
    }
   ],
   "source": [
    "preprocess_dm = FeatureStore(b_config)\n",
    "preprocess_dm.prepare_data()"
   ]
  },
  {
   "cell_type": "code",
   "execution_count": null,
   "metadata": {
    "id": "nqqzb3EO5g4A"
   },
   "outputs": [],
   "source": [
    "feature_data = torch.load(\"/content/iml2020/feature_store/1000\", map_location='cpu')"
   ]
  },
  {
   "cell_type": "code",
   "execution_count": null,
   "metadata": {
    "colab": {
     "base_uri": "https://localhost:8080/"
    },
    "id": "f6u04dHZ5qLQ",
    "outputId": "cbb43e06-4085-48bb-ef46-25b293d47cc5"
   },
   "outputs": [
    {
     "data": {
      "text/plain": [
       "Data(cell_data=[7837, 9], event_file=\"/content/train_10evts/event000001000\", hid=[7837], layerless_true_edges=[2, 7875], layers=[7837], pid=[7837], x=[7837, 3])"
      ]
     },
     "execution_count": 17,
     "metadata": {
      "tags": []
     },
     "output_type": "execute_result"
    }
   ],
   "source": [
    "feature_data"
   ]
  },
  {
   "cell_type": "markdown",
   "metadata": {
    "id": "IMhCuohbUWwc"
   },
   "source": [
    "# Embedding"
   ]
  },
  {
   "cell_type": "markdown",
   "metadata": {
    "id": "ocYEwhFnfhZh"
   },
   "source": [
    "The embedding/filtering module is written in pytorch as a [LightningModule](https://pytorch-lightning.readthedocs.io/en/stable/lightning_module.html) and trained by the [Trainer](https://pytorch-lightning.readthedocs.io/en/stable/trainer.html), heriting all APIs associated with the two.\n",
    "\n",
    "The training/validation steps for embedding and filtering are defined in a base class and the neural network is abstracted in the base class while implemented in its derived class."
   ]
  },
  {
   "cell_type": "code",
   "execution_count": null,
   "metadata": {
    "cellView": "code",
    "colab": {
     "base_uri": "https://localhost:8080/"
    },
    "id": "A-u8sNjFDizx",
    "outputId": "be8774f8-0319-4a96-bc94-80764786a07d"
   },
   "outputs": [
    {
     "name": "stdout",
     "output_type": "stream",
     "text": [
      "{   'adjacent': False,\n",
      "    'clustering': 'build_edges',\n",
      "    'emb_dim': 8,\n",
      "    'emb_hidden': 512,\n",
      "    'endcaps': True,\n",
      "    'factor': 0.3,\n",
      "    'in_channels': 12,\n",
      "    'knn_train': 20,\n",
      "    'knn_val': 100,\n",
      "    'layerless': True,\n",
      "    'layerwise': False,\n",
      "    'lr': 0.002,\n",
      "    'margin': 1,\n",
      "    'n_workers': 1,\n",
      "    'nb_layer': 6,\n",
      "    'noise': False,\n",
      "    'overwrite': True,\n",
      "    'patience': 5,\n",
      "    'pt_min': 0,\n",
      "    'r_train': 1,\n",
      "    'r_val': 1.5,\n",
      "    'randomisation': 2,\n",
      "    'regime': ['rp', 'hnm', 'ci'],\n",
      "    'train_split': [8, 1, 1],\n",
      "    'warmup': 500,\n",
      "    'weight': 4}\n"
     ]
    }
   ],
   "source": [
    "action = 'embedding'\n",
    "\n",
    "config_file = pkg_resources.resource_filename(\n",
    "                    \"exatrkx\",\n",
    "                    os.path.join('configs', config_dict[action]))\n",
    "with open(config_file) as f:\n",
    "  e_config = yaml.load(f, Loader=yaml.FullLoader)\n",
    "\n",
    "pp = pprint.PrettyPrinter(indent=4)\n",
    "pp.pprint(e_config)"
   ]
  },
  {
   "cell_type": "markdown",
   "metadata": {
    "id": "asyRRk5Yr2Hh"
   },
   "source": [
    "The sum of `train_split` has to match the total number of events generated from the preprocessing."
   ]
  },
  {
   "cell_type": "code",
   "execution_count": null,
   "metadata": {
    "id": "iVyllh1doB_H"
   },
   "outputs": [],
   "source": [
    "e_config['train_split'] = [1, 1, 1]"
   ]
  },
  {
   "cell_type": "code",
   "execution_count": null,
   "metadata": {
    "id": "ihLvNc8xEILT"
   },
   "outputs": [],
   "source": [
    "e_model = LayerlessEmbedding(e_config)\n",
    "\n",
    "e_checkpoint_callback = ModelCheckpoint(\n",
    "    monitor='val_loss',\n",
    "    filepath=os.path.join(utils_dir.embedding_outdir,'ckpt-{epoch:02d}-{val_loss:.2f}') ,\n",
    "    save_top_k=3,\n",
    "    mode='min')\n",
    "e_callback_list = [EmbeddingInferenceCallback()]"
   ]
  },
  {
   "cell_type": "code",
   "execution_count": null,
   "metadata": {
    "colab": {
     "base_uri": "https://localhost:8080/"
    },
    "id": "fZYYADwfDe1g",
    "outputId": "3ca98e93-cd6e-4511-d9c0-72ef3beb2859"
   },
   "outputs": [
    {
     "name": "stderr",
     "output_type": "stream",
     "text": [
      "GPU available: False, used: False\n",
      "TPU available: False, using: 0 TPU cores\n"
     ]
    }
   ],
   "source": [
    "e_trainer = Trainer(\n",
    "    max_epochs = 2,\n",
    "    limit_train_batches=1,\n",
    "    limit_val_batches=1,\n",
    "    callbacks=e_callback_list,\n",
    "    gpus=0,\n",
    "    checkpoint_callback=e_checkpoint_callback\n",
    "    )"
   ]
  },
  {
   "cell_type": "code",
   "execution_count": null,
   "metadata": {
    "colab": {
     "base_uri": "https://localhost:8080/",
     "height": 237,
     "referenced_widgets": [
      "869fb51b82c74fb6ad5f4b8a3de119fa",
      "2262d445a8594280b7fa6ab2e851b194",
      "49b5388398ba4e86b23d0a2f589fa57f",
      "2d5743ed68f24700951417f49c4dda47",
      "7e497035705a4c92bee4f36820636c17",
      "0b9e9ef4614c4b85bbce33f3c1cb0844",
      "57ad7a0194ba491eafd086b22da58b3e",
      "e39f057c5dd44ef2a33e60c85ea942f6",
      "4913594a91a0431580b8200d1f61b4b0",
      "5037bff6409c4a5492e5ba91564f2681",
      "de48527c13fe4b959eae9ce31caca633",
      "a9da56f04cb34272a199a2703e7c410e",
      "6cba1d955d844a42ace3252f1758876e",
      "1c05afbd962f41c7802e475bcb67b1cc",
      "3003297e18a54a30b54f5ee3eb526fc3",
      "b634a4cb3b56495480f5d6dd681d3e4a",
      "fd50a16f1bca44149f3ad7b0994772b7",
      "db1fc08cdff2470dafc2a580ab567248",
      "a46d60b90cf04913b3f18f1533b4aca3",
      "8f082f43bae647a8b854327ebd65a93e",
      "e8eed605897042a8951e80635704fcff",
      "b1b3be1894514f38ac31011672e6b510",
      "c5ef278701394729a1b0b92aabb30bf8",
      "6ac706d74367472cb9de3d464df3867a",
      "f06ff041a2dd4fd1beb792eaef5b8640",
      "cc34f15941304fd9ae967805a25870e2",
      "a5062bdd93524e5c8b34ffee36af1742",
      "ef31455f32f34c08b6ae8739ea710acd",
      "a8bb64119e10442283448f56183bb6d0",
      "f9b719c1a70746a99a2ab0f437c98a40",
      "77194c6abd894500a39e4ecd6c7ff895",
      "05dda350689a4e0cba0dbdff036e907f"
     ]
    },
    "id": "ifI21yckExrG",
    "outputId": "37baef9b-cb08-4e5a-b966-d536a509ad38"
   },
   "outputs": [
    {
     "name": "stderr",
     "output_type": "stream",
     "text": [
      "\n",
      "  | Name      | Type       | Params\n",
      "-----------------------------------------\n",
      "0 | layers    | ModuleList | 1 M   \n",
      "1 | emb_layer | Linear     | 4 K   \n",
      "2 | norm      | LayerNorm  | 1 K   \n",
      "3 | act       | Tanh       | 0     \n"
     ]
    },
    {
     "data": {
      "application/vnd.jupyter.widget-view+json": {
       "model_id": "869fb51b82c74fb6ad5f4b8a3de119fa",
       "version_major": 2,
       "version_minor": 0
      },
      "text/plain": [
       "HBox(children=(FloatProgress(value=1.0, bar_style='info', description='Validation sanity check', layout=Layout…"
      ]
     },
     "metadata": {
      "tags": []
     },
     "output_type": "display_data"
    },
    {
     "name": "stdout",
     "output_type": "stream",
     "text": []
    },
    {
     "data": {
      "application/vnd.jupyter.widget-view+json": {
       "model_id": "4913594a91a0431580b8200d1f61b4b0",
       "version_major": 2,
       "version_minor": 0
      },
      "text/plain": [
       "HBox(children=(FloatProgress(value=1.0, bar_style='info', description='Training', layout=Layout(flex='2'), max…"
      ]
     },
     "metadata": {
      "tags": []
     },
     "output_type": "display_data"
    },
    {
     "data": {
      "application/vnd.jupyter.widget-view+json": {
       "model_id": "fd50a16f1bca44149f3ad7b0994772b7",
       "version_major": 2,
       "version_minor": 0
      },
      "text/plain": [
       "HBox(children=(FloatProgress(value=1.0, bar_style='info', description='Validating', layout=Layout(flex='2'), m…"
      ]
     },
     "metadata": {
      "tags": []
     },
     "output_type": "display_data"
    },
    {
     "data": {
      "application/vnd.jupyter.widget-view+json": {
       "model_id": "f06ff041a2dd4fd1beb792eaef5b8640",
       "version_major": 2,
       "version_minor": 0
      },
      "text/plain": [
       "HBox(children=(FloatProgress(value=1.0, bar_style='info', description='Validating', layout=Layout(flex='2'), m…"
      ]
     },
     "metadata": {
      "tags": []
     },
     "output_type": "display_data"
    },
    {
     "name": "stdout",
     "output_type": "stream",
     "text": [
      "Training finished, running inference to build graphs...\n",
      "\n"
     ]
    },
    {
     "data": {
      "text/plain": [
       "1"
      ]
     },
     "execution_count": 22,
     "metadata": {
      "tags": []
     },
     "output_type": "execute_result"
    }
   ],
   "source": [
    "e_trainer.fit(e_model)"
   ]
  },
  {
   "cell_type": "code",
   "execution_count": null,
   "metadata": {
    "colab": {
     "base_uri": "https://localhost:8080/"
    },
    "id": "8tKqKAfxrC4z",
    "outputId": "9b9c8adc-7ae0-40da-972c-352e94393471"
   },
   "outputs": [
    {
     "name": "stdout",
     "output_type": "stream",
     "text": [
      "1002\n"
     ]
    }
   ],
   "source": [
    "!ls /content/iml2020/embedding_output/train/"
   ]
  },
  {
   "cell_type": "code",
   "execution_count": null,
   "metadata": {
    "colab": {
     "base_uri": "https://localhost:8080/"
    },
    "id": "zXiYSwDRq29U",
    "outputId": "e8a3de38-1d7a-4527-d4a5-3308ef14495b"
   },
   "outputs": [
    {
     "data": {
      "text/plain": [
       "Data(cell_data=[8729, 9], e_radius=[2, 864171], event_file=\"/content/train_10evts/event000001002\", hid=[8729], layerless_true_edges=[2, 8863], layers=[8729], pid=[8729], x=[8729, 3], y=[864171])"
      ]
     },
     "execution_count": 24,
     "metadata": {
      "tags": []
     },
     "output_type": "execute_result"
    }
   ],
   "source": [
    "embed_outfile = os.path.join(utils_dir.embedding_outdir, \"train\", \"1002\")\n",
    "dd = torch.load(embed_outfile)\n",
    "dd"
   ]
  },
  {
   "cell_type": "markdown",
   "metadata": {
    "id": "JF4bcnvssZdz"
   },
   "source": [
    "The above steps can be executed via a command line \n",
    "\n",
    "`run_lightning.py --action embedding --max_epochs 2 --gpus 0 --limit_train_batches 1 --limit_val_batches 1`"
   ]
  },
  {
   "cell_type": "markdown",
   "metadata": {
    "id": "0lihSDePum8-"
   },
   "source": [
    "We walkthrough the training step for embedding learning.\n",
    "\n",
    "```python\n",
    "def training_step(self, batch, batch_idx):\n",
    "\n",
    "    # apply the embedding neural network on the hit features\n",
    "    # and return hidden features in the embedding space.\n",
    "    spatial = self(torch.cat([batch.cell_data, batch.x], axis=-1))\n",
    "\n",
    "    # create another direction for true doublets\n",
    "    # doublets are also called edges\n",
    "    e_bidir = torch.cat([batch.layerless_true_edges,\n",
    "                        torch.stack([batch.layerless_true_edges[1],\n",
    "                                    batch.layerless_true_edges[0]], axis=1).T\n",
    "                        ], axis=-1)\n",
    "\n",
    "    # engineering true and false doublets for each batch in that, \n",
    "    # [0, :] are reference hits, and [1, :] neighbor hits\n",
    "    # two method used: random sampling (rp) and hard negative mining (hnm)\n",
    "    # start from an empty batch: \n",
    "    e_spatial = torch.empty([2,0], dtype=torch.int64, device=self.device)\n",
    "\n",
    "    if 'rp' in self.hparams[\"regime\"]:\n",
    "        # randomly select two times of total true edges\n",
    "        n_random = int(self.hparams[\"randomisation\"]*e_bidir.shape[1])\n",
    "        e_spatial = torch.cat([e_spatial,\n",
    "            torch.randint(e_bidir.min(), e_bidir.max(), (2, n_random), device=self.device)], axis=-1)\n",
    "\n",
    "    # use a clustering algorithm to connect hits based on embedding information\n",
    "    # euclidean distance is used.\n",
    "    # r_train: radius for training, typical value, 1.\n",
    "    # knn_train: the maximum number of neighbours, typical value, 20\n",
    "    if 'hnm' in self.hparams[\"regime\"]:\n",
    "        e_spatial = torch.cat([e_spatial,\n",
    "                        self.clustering(spatial, self.hparams[\"r_train\"], self.hparams[\"knn_train\"])], axis=-1)\n",
    "\n",
    "    # label the engineered doublets according to the truth\n",
    "    # sparse reprsentation is used to reduce executation time\n",
    "    e_spatial, y_cluster = graph_intersection(e_spatial, e_bidir)\n",
    "\n",
    "    # add all truth edges \"weight\" times, which is 4,\n",
    "    # to balance the number of truth and fake edges in one batch\n",
    "    e_spatial = torch.cat([\n",
    "        e_spatial,\n",
    "        e_bidir.transpose(0,1).repeat(1,self.hparams[\"weight\"]).view(-1, 2).transpose(0,1)\n",
    "        ], axis=-1)\n",
    "    y_cluster = np.concatenate([y_cluster.astype(int), np.ones(e_bidir.shape[1]*self.hparams[\"weight\"])])\n",
    "\n",
    "    hinge = torch.from_numpy(y_cluster).float().to(device)\n",
    "    hinge[hinge == 0] = -1\n",
    "\n",
    "    # extract emedding features of reference hits and neighbor hits\n",
    "    reference = spatial.index_select(0, e_spatial[1])\n",
    "    neighbors = spatial.index_select(0, e_spatial[0])\n",
    "    d = torch.sum((reference - neighbors)**2, dim=-1)\n",
    "\n",
    "    loss = torch.nn.functional.hinge_embedding_loss(d, hinge, margin=self.hparams[\"margin\"], reduction=\"mean\")\n",
    "\n",
    "    self.log(\"train_loss\", loss, prog_bar=True)\n",
    "\n",
    "    return loss\n",
    "```"
   ]
  },
  {
   "cell_type": "markdown",
   "metadata": {
    "id": "Bp_LI390UdNW"
   },
   "source": [
    "# Filtering"
   ]
  },
  {
   "cell_type": "code",
   "execution_count": null,
   "metadata": {
    "colab": {
     "base_uri": "https://localhost:8080/"
    },
    "id": "nyxRabawrya3",
    "outputId": "c27690a1-bebe-4e62-b06d-60811976edd2"
   },
   "outputs": [
    {
     "name": "stdout",
     "output_type": "stream",
     "text": [
      "{   'adjacent': False,\n",
      "    'batchnorm': True,\n",
      "    'emb_channels': 0,\n",
      "    'endcaps': True,\n",
      "    'factor': 0.3,\n",
      "    'filter_cut': 0.5,\n",
      "    'hidden': 512,\n",
      "    'in_channels': 12,\n",
      "    'layerless': True,\n",
      "    'layernorm': True,\n",
      "    'layerwise': False,\n",
      "    'lr': 0.002,\n",
      "    'nb_layer': 3,\n",
      "    'noise': False,\n",
      "    'patience': 5,\n",
      "    'pt_min': 0,\n",
      "    'ratio': 4,\n",
      "    'regime': ['ci'],\n",
      "    'train_split': [8, 1, 1],\n",
      "    'val_subset': 0.1,\n",
      "    'warmup': 200}\n"
     ]
    }
   ],
   "source": [
    "action = 'filtering'\n",
    "\n",
    "config_file = pkg_resources.resource_filename(\n",
    "                    \"exatrkx\",\n",
    "                    os.path.join('configs', config_dict[action]))\n",
    "with open(config_file) as f:\n",
    "  f_config = yaml.load(f, Loader=yaml.FullLoader)\n",
    "\n",
    "pp.pprint(f_config)"
   ]
  },
  {
   "cell_type": "code",
   "execution_count": null,
   "metadata": {
    "id": "xKkkJ81TmGNL"
   },
   "outputs": [],
   "source": [
    "f_config['train_split'] = [1,1, 1]"
   ]
  },
  {
   "cell_type": "code",
   "execution_count": null,
   "metadata": {
    "id": "e0owEledrzXJ"
   },
   "outputs": [],
   "source": [
    "f_model = VanillaFilter(f_config)\n",
    "f_callback_list = [FilterInferenceCallback()]"
   ]
  },
  {
   "cell_type": "code",
   "execution_count": null,
   "metadata": {
    "colab": {
     "base_uri": "https://localhost:8080/"
    },
    "id": "2K8Aap6UsFJP",
    "outputId": "8d8f9fae-6e0a-4783-d756-3df51d285702"
   },
   "outputs": [
    {
     "name": "stderr",
     "output_type": "stream",
     "text": [
      "GPU available: False, used: False\n",
      "TPU available: False, using: 0 TPU cores\n"
     ]
    }
   ],
   "source": [
    "f_trainer = Trainer(\n",
    "    max_epochs = 2,\n",
    "    limit_train_batches=1,\n",
    "    limit_val_batches=1,\n",
    "    callbacks=f_callback_list,\n",
    "    gpus=0,\n",
    "    )"
   ]
  },
  {
   "cell_type": "code",
   "execution_count": null,
   "metadata": {
    "colab": {
     "base_uri": "https://localhost:8080/",
     "height": 312,
     "referenced_widgets": [
      "b775c4c019e044ddb54c09808b18e880",
      "2aeabdb8abfb40b39a82dddd641318e4",
      "53a699d3e609459887c880f897cc4fec",
      "7ee7859a0ef4408b93bf1bb990252e38",
      "19efe0ba3cf34a85becc1867d1299bbb",
      "30fb255df60840829b13ab6a7bb27536",
      "0b6439920ba7446a90b0da08a0edf046",
      "740708443b8e41b4991059143f710d8b",
      "5cffdd65a1e044d1ab1b40a1fbb1fe03",
      "e788c79484e14d418a308e9ba8621a47",
      "95564cb1bb944c7da935a3678f67e348",
      "1c89a8f8631b4d4f9b139e8838b98ba8",
      "a589cdc8ca414003b42cf9051f8b1e48",
      "a8723fe6f9214b6eb32daa2bb2820145",
      "d3ca03e2f0ae42799cd67fc9a43d47ae",
      "3042711720aa4be48589759b63c0f293",
      "bbfa65338fe14c1e8c498288b123473b",
      "915c28ae638c4fbdb38ac4884a160185",
      "a810b6f9d8644836b950369a6b286e3b",
      "30463987ebdd487185651d5a9e513128",
      "bb93ff5a8f4b4e77bbc12b145598e1a2",
      "3af102ccecd14ca894a30a8a2d523a40",
      "c22a38f24c6c4a8eb7da40d0d353dd5b",
      "8683d7fe14f640ac959da423bab81db6",
      "c43ce2cb00c9409ebcec330420938217",
      "e58cff2e4c1c42639701252ec5396b31",
      "6e9a9406cf8e4ba3b5657ca5fff782ac",
      "dc9fc80fdb6543e7a759cfcdc0e00e9f",
      "8e585c49a2784d7da7b95ac1388bf939",
      "d71f11fcaff3408b8665f0c972a0f489",
      "fbaee165e2764671b05e3df43ae426f5",
      "bae5823cc0b14517ac5b5bd7fcd1cc5e"
     ]
    },
    "id": "nfX_H4lrsJHw",
    "outputId": "18ee8808-b108-4c9b-a18f-233d2668117f"
   },
   "outputs": [
    {
     "name": "stderr",
     "output_type": "stream",
     "text": [
      "\n",
      "  | Name         | Type        | Params\n",
      "---------------------------------------------\n",
      "0 | input_layer  | Linear      | 12 K  \n",
      "1 | layers       | ModuleList  | 525 K \n",
      "2 | output_layer | Linear      | 513   \n",
      "3 | layernorm    | LayerNorm   | 1 K   \n",
      "4 | batchnorm    | BatchNorm1d | 1 K   \n",
      "5 | act          | Tanh        | 0     \n"
     ]
    },
    {
     "data": {
      "application/vnd.jupyter.widget-view+json": {
       "model_id": "b775c4c019e044ddb54c09808b18e880",
       "version_major": 2,
       "version_minor": 0
      },
      "text/plain": [
       "HBox(children=(FloatProgress(value=1.0, bar_style='info', description='Validation sanity check', layout=Layout…"
      ]
     },
     "metadata": {
      "tags": []
     },
     "output_type": "display_data"
    },
    {
     "name": "stdout",
     "output_type": "stream",
     "text": []
    },
    {
     "name": "stderr",
     "output_type": "stream",
     "text": [
      "/usr/local/lib/python3.6/dist-packages/torch/nn/functional.py:1625: UserWarning: nn.functional.sigmoid is deprecated. Use torch.sigmoid instead.\n",
      "  warnings.warn(\"nn.functional.sigmoid is deprecated. Use torch.sigmoid instead.\")\n"
     ]
    },
    {
     "data": {
      "application/vnd.jupyter.widget-view+json": {
       "model_id": "5cffdd65a1e044d1ab1b40a1fbb1fe03",
       "version_major": 2,
       "version_minor": 0
      },
      "text/plain": [
       "HBox(children=(FloatProgress(value=1.0, bar_style='info', description='Training', layout=Layout(flex='2'), max…"
      ]
     },
     "metadata": {
      "tags": []
     },
     "output_type": "display_data"
    },
    {
     "data": {
      "application/vnd.jupyter.widget-view+json": {
       "model_id": "bbfa65338fe14c1e8c498288b123473b",
       "version_major": 2,
       "version_minor": 0
      },
      "text/plain": [
       "HBox(children=(FloatProgress(value=1.0, bar_style='info', description='Validating', layout=Layout(flex='2'), m…"
      ]
     },
     "metadata": {
      "tags": []
     },
     "output_type": "display_data"
    },
    {
     "data": {
      "application/vnd.jupyter.widget-view+json": {
       "model_id": "c43ce2cb00c9409ebcec330420938217",
       "version_major": 2,
       "version_minor": 0
      },
      "text/plain": [
       "HBox(children=(FloatProgress(value=1.0, bar_style='info', description='Validating', layout=Layout(flex='2'), m…"
      ]
     },
     "metadata": {
      "tags": []
     },
     "output_type": "display_data"
    },
    {
     "name": "stdout",
     "output_type": "stream",
     "text": [
      "Training finished, running inference to filter graphs...\n",
      "\n"
     ]
    },
    {
     "data": {
      "text/plain": [
       "1"
      ]
     },
     "execution_count": 29,
     "metadata": {
      "tags": []
     },
     "output_type": "execute_result"
    }
   ],
   "source": [
    "f_trainer.fit(f_model)"
   ]
  },
  {
   "cell_type": "code",
   "execution_count": null,
   "metadata": {
    "colab": {
     "base_uri": "https://localhost:8080/"
    },
    "id": "H_SbevUEs4Wl",
    "outputId": "01c21b35-5b76-4172-cb18-1a5a9c441808"
   },
   "outputs": [
    {
     "data": {
      "text/plain": [
       "Data(cell_data=[8729, 9], e_radius=[2, 71197], event_file=\"/content/train_10evts/event000001002\", hid=[8729], layerless_true_edges=[2, 8863], layers=[8729], pid=[8729], x=[8729, 3], y=[71197], y_pid=[71197])"
      ]
     },
     "execution_count": 30,
     "metadata": {
      "tags": []
     },
     "output_type": "execute_result"
    }
   ],
   "source": [
    "filter_outfile = os.path.join(utils_dir.filtering_outdir, \"train\", \"1002\")\n",
    "dd = torch.load(filter_outfile)\n",
    "dd"
   ]
  },
  {
   "cell_type": "markdown",
   "metadata": {
    "id": "HfvKUCvjUlQA"
   },
   "source": [
    "# Graph Neural Network"
   ]
  },
  {
   "cell_type": "markdown",
   "metadata": {
    "id": "3_5S_xJ-vFs4"
   },
   "source": [
    "## Prepare `tf.data` for training GNN\n",
    "We converted the output to `tf.data`, [link to official guidence](https://www.tensorflow.org/guide/data#batching_dataset_elements), to take advantage of the TensorFlow input pipelines. By doing this, the data processing step takes a negligible contribution to the training as seen in a profiling results from TensorBorad. The actuall implementation can be found at [dataset.py](https://github.com/exatrkx/exatrkx-iml2020/blob/main/exatrkx/src/tfgraphs/dataset.py)\n",
    "\n",
    "The executable that converts input dataset to `tf.data` is [convert2tf.py](https://github.com/exatrkx/exatrkx-iml2020/blob/main/exatrkx/scripts/convert2tf.py)."
   ]
  },
  {
   "cell_type": "code",
   "execution_count": null,
   "metadata": {
    "colab": {
     "base_uri": "https://localhost:8080/"
    },
    "id": "6an_KUPduYmW",
    "outputId": "d4fab24c-5384-48dc-fce4-91ef183c5124"
   },
   "outputs": [
    {
     "name": "stdout",
     "output_type": "stream",
     "text": [
      "processing files in folder: /content/iml2020/filtering_output/train\n",
      "nodes [8729, 3] <dtype: 'float32'>\n",
      "edges [71197, 1] <dtype: 'float32'>\n",
      "receivers [71197] <dtype: 'int32'>\n",
      "senders [71197] <dtype: 'int32'>\n",
      "globals [1, 1] <dtype: 'float32'>\n",
      "n_node [1] <dtype: 'int32'>\n",
      "n_edge [1] <dtype: 'int32'>\n",
      "nodes [1, 1] <dtype: 'float32'>\n",
      "edges [71197] <dtype: 'float32'>\n",
      "receivers [1] <dtype: 'int32'>\n",
      "senders [1] <dtype: 'int32'>\n",
      "globals [1, 1] <dtype: 'float32'>\n",
      "n_node [1] <dtype: 'int32'>\n",
      "n_edge [1] <dtype: 'int32'>\n",
      "DoubletsDataset added 1 events, in 0.0 mins\n",
      "processing files in folder: /content/iml2020/filtering_output/val\n",
      "DoubletsDataset added 1 events, in 0.0 mins\n",
      "processing files in folder: /content/iml2020/filtering_output/test\n",
      "DoubletsDataset added 1 events, in 0.0 mins\n"
     ]
    }
   ],
   "source": [
    "!convert2tf.py --edge-name \"e_radius\" --truth-name \"y_pid\""
   ]
  },
  {
   "cell_type": "markdown",
   "metadata": {
    "id": "O6ZZE9Yt3G_R"
   },
   "source": [
    "## SegmentClassifier (GNN for doublet classification)\n",
    "The core part of the classifier is the [interaction network](https://arxiv.org/abs/1612.00222) with small modifications, implemented with the [graph_nets](https://github.com/deepmind/graph_nets), explained below.\n",
    "\n",
    "Modifications include 1) updating nodes uses both sender edges and receiver edges; 2) edge block is updated after the node-block is updated.\n",
    "\n",
    "The training script is [train_gnn_tf.py](https://github.com/exatrkx/exatrkx-iml2020/blob/main/exatrkx/scripts/train_gnn_tf.py). We will first walk through the graph neural network and the training step, then run the training."
   ]
  },
  {
   "cell_type": "markdown",
   "metadata": {
    "id": "Bfo7uQfNrWJg"
   },
   "source": [
    "```python\n",
    "class InteractionNetwork(snt.Module):\n",
    "  \"\"\"Implementation of an Interaction Network.\n",
    "\n",
    "  An interaction networks computes interactions on the edges based on the\n",
    "  previous edges features, and on the features of the nodes sending into those\n",
    "  edges. It then updates the nodes based on the incomming updated edges.\n",
    "  See https://arxiv.org/abs/1612.00222 for more details.\n",
    "\n",
    "  This model does not update the graph globals, and they are allowed to be\n",
    "  `None`.\n",
    "  \"\"\"\n",
    "\n",
    "  def __init__(self,\n",
    "               edge_model_fn,\n",
    "               node_model_fn,\n",
    "               reducer=tf.math.unsorted_segment_sum,\n",
    "               name=\"interaction_network\"):\n",
    "    \"\"\"Initializes the InteractionNetwork module.\n",
    "\n",
    "    Args:\n",
    "      edge_model_fn: A callable that will be passed to `EdgeBlock` to perform\n",
    "        per-edge computations. The callable must return a Sonnet module (or\n",
    "        equivalent; see `blocks.EdgeBlock` for details), and the shape of the\n",
    "        output of this module must match the one of the input nodes, but for the\n",
    "        first and last axis.\n",
    "      node_model_fn: A callable that will be passed to `NodeBlock` to perform\n",
    "        per-node computations. The callable must return a Sonnet module (or\n",
    "        equivalent; see `blocks.NodeBlock` for details).\n",
    "      reducer: Reducer to be used by NodeBlock to aggregate edges. Defaults to\n",
    "        tf.unsorted_segment_sum.\n",
    "      name: The module name.\n",
    "    \"\"\"\n",
    "    super(InteractionNetwork, self).__init__(name=name)\n",
    "    self._edge_block = blocks.EdgeBlock(\n",
    "        edge_model_fn=edge_model_fn, use_globals=False)\n",
    "    self._node_block = blocks.NodeBlock(\n",
    "        node_model_fn=node_model_fn,\n",
    "        use_received_edges=True,\n",
    "        use_sent_edges=True,\n",
    "        use_globals=False,\n",
    "        received_edges_reducer=reducer)\n",
    "\n",
    "  def __call__(self, graph):\n",
    "    \"\"\"Connects the InterationNetwork.\n",
    "\n",
    "    Args:\n",
    "      graph: A `graphs.GraphsTuple` containing `Tensor`s. `graph.globals` can be\n",
    "        `None`. The features of each node and edge of `graph` must be\n",
    "        concatenable on the last axis (i.e., the shapes of `graph.nodes` and\n",
    "        `graph.edges` must match but for their first and last axis).\n",
    "\n",
    "    Returns:\n",
    "      An output `graphs.GraphsTuple` with updated edges and nodes.\n",
    "\n",
    "    Raises:\n",
    "      ValueError: If any of `graph.nodes`, `graph.edges`, `graph.receivers` or\n",
    "        `graph.senders` is `None`.\n",
    "    \"\"\"\n",
    "    return self._edge_block(self._node_block(graph))\n",
    "```"
   ]
  },
  {
   "cell_type": "markdown",
   "metadata": {
    "id": "s3fITpQNrbN5"
   },
   "source": [
    "```python\n",
    "class SegmentClassifier(snt.Module):\n",
    "\n",
    "  def __init__(self, name=\"SegmentClassifier\"):\n",
    "    super(SegmentClassifier, self).__init__(name=name)\n",
    "\n",
    "    # objective is to initialize node features by\n",
    "    # transforming input node features via MLP.\n",
    "    self._node_encoder_block = blocks.NodeBlock(\n",
    "        node_model_fn=make_mlp_model,\n",
    "        use_received_edges=False,\n",
    "        use_sent_edges=False,\n",
    "        use_nodes=True,\n",
    "        use_globals=False,\n",
    "        name='node_encoder_block'\n",
    "    )\n",
    "\n",
    "    # objective is to initialize edge features by\n",
    "    # transforming aggregated neibouring node information via MLP.\n",
    "    self._edge_block = blocks.EdgeBlock(\n",
    "        edge_model_fn=make_mlp_model,\n",
    "        use_edges=False,\n",
    "        use_receiver_nodes=True,\n",
    "        use_sender_nodes=True,\n",
    "        use_globals=False,\n",
    "        name='edge_encoder_block'\n",
    "    )\n",
    "\n",
    "    # reducer can be [sum, max, min, max, ...]\n",
    "    self._core = InteractionNetwork(\n",
    "        edge_model_fn=make_mlp_model,\n",
    "        node_model_fn=make_mlp_model,\n",
    "        reducer=tf.math.unsorted_segment_sum\n",
    "    )\n",
    "\n",
    "    # Transforms the outputs into appropriate shapes\n",
    "    edge_output_size = 1\n",
    "    edge_fn =lambda: snt.Sequential([\n",
    "        snt.nets.MLP([edge_output_size],\n",
    "                      activation=tf.nn.relu, # default is relu\n",
    "                      name='edge_output'),\n",
    "        tf.sigmoid])\n",
    "\n",
    "    self._output_transform = modules.GraphIndependent(edge_fn, None, None)\n",
    "\n",
    "  def __call__(self, input_op, num_processing_steps):\n",
    "    # make a full fledged graph that has node and features\n",
    "    latent = self._edge_block(self._node_encoder_block(input_op))\n",
    "    latent0 = latent\n",
    "\n",
    "    output_ops = []\n",
    "    # message passing with skip connections\n",
    "    for _ in range(num_processing_steps):\n",
    "        core_input = utils_tf.concat([latent0, latent], axis=1)\n",
    "        latent = self._core(core_input)\n",
    "        output_ops.append(self._output_transform(latent))\n",
    "    return output_ops\n",
    "```"
   ]
  },
  {
   "cell_type": "markdown",
   "metadata": {
    "id": "CmOVr_jO50C9"
   },
   "source": [
    "The training step"
   ]
  },
  {
   "cell_type": "markdown",
   "metadata": {
    "id": "Vkmmed_ire5u"
   },
   "source": [
    "```python\n",
    "@functools.partial(tf.function, input_signature=input_signature)\n",
    "def train_step(inputs_tr, targets_tr, first_batch):\n",
    "    print(\"Tracing update_step\")\n",
    "    print(\"inputs nodes\", inputs_tr.nodes.shape)\n",
    "    print(\"inputs edges\", inputs_tr.edges.shape)\n",
    "    print(\"input n_node\", inputs_tr.n_node.shape)\n",
    "    print(inputs_tr.nodes)\n",
    "    with tf.GradientTape() as tape:\n",
    "        outputs_tr = model(inputs_tr, num_processing_steps_tr)\n",
    "        loss_ops_tr = create_loss_ops(targets_tr, outputs_tr)\n",
    "        loss_op_tr = tf.math.reduce_sum(loss_ops_tr) / tf.constant(num_processing_steps_tr, dtype=tf.float32)\n",
    "\n",
    "    # Horovod: add Horovod Distributed GradientTape.\n",
    "    if args.distributed:\n",
    "        tape = hvd.DistributedGradientTape(tape)\n",
    "\n",
    "    gradients = tape.gradient(loss_op_tr, model.trainable_variables)\n",
    "    # optimizer.apply_gradients(zip(gradients, model.trainable_variables))\n",
    "    optimizer.apply(gradients, model.trainable_variables)\n",
    "\n",
    "    # Horovod: broadcast initial variable states from rank 0 to all other processes.\n",
    "    # This is necessary to ensure consistent initialization of all workers when\n",
    "    # training is started with random weights or restored from a checkpoint.\n",
    "    #\n",
    "    # Note: broadcast should be done after the first gradient step to ensure optimizer\n",
    "    # initialization.\n",
    "    if args.distributed and first_batch:\n",
    "        hvd.broadcast_variables(model.trainable_variables, root_rank=0)\n",
    "        hvd.broadcast_variables(optimizer.variables, root_rank=0)\n",
    "\n",
    "    return loss_op_tr\n",
    "```"
   ]
  },
  {
   "cell_type": "markdown",
   "metadata": {
    "id": "ZFjHBKjKn6RK"
   },
   "source": [
    "The `--train-files`, `--val-files` and `--output-dir` are optional. If they are not specified, internally organized directory will be used."
   ]
  },
  {
   "cell_type": "code",
   "execution_count": null,
   "metadata": {
    "colab": {
     "base_uri": "https://localhost:8080/"
    },
    "id": "FkwpQ6PSvb3F",
    "outputId": "dd81247b-4cc2-402c-a908-114785800509"
   },
   "outputs": [
    {
     "name": "stdout",
     "output_type": "stream",
     "text": [
      "usage: train_gnn_tf.py [-h] [--train-files TRAIN_FILES]\n",
      "                       [--val-files VAL_FILES] [--output-dir OUTPUT_DIR] [-d]\n",
      "                       [--num-iters NUM_ITERS] [--learning-rate LEARNING_RATE]\n",
      "                       [--max-epochs MAX_EPOCHS]\n",
      "                       [--real-edge-weight REAL_EDGE_WEIGHT]\n",
      "                       [--fake-edge-weight FAKE_EDGE_WEIGHT]\n",
      "                       [-v {DEBUG,ERROR,FATAL,INFO,WARN}]\n",
      "\n",
      "Train nx-graph with configurations\n",
      "\n",
      "optional arguments:\n",
      "  -h, --help            show this help message and exit\n",
      "  --train-files TRAIN_FILES\n",
      "                        input TF records for training\n",
      "  --val-files VAL_FILES\n",
      "                        input TF records for validation\n",
      "  --output-dir OUTPUT_DIR\n",
      "                        where the model and training info saved\n",
      "  -d, --distributed     data distributed training\n",
      "  --num-iters NUM_ITERS\n",
      "                        number of message passing steps\n",
      "  --learning-rate LEARNING_RATE\n",
      "                        learing rate\n",
      "  --max-epochs MAX_EPOCHS\n",
      "                        number of epochs\n",
      "  --real-edge-weight REAL_EDGE_WEIGHT\n",
      "                        weights for real edges\n",
      "  --fake-edge-weight FAKE_EDGE_WEIGHT\n",
      "                        weights for fake edges\n",
      "  -v {DEBUG,ERROR,FATAL,INFO,WARN}, --verbose {DEBUG,ERROR,FATAL,INFO,WARN}\n",
      "                        verbosity\n"
     ]
    }
   ],
   "source": [
    "!train_gnn_tf.py --help"
   ]
  },
  {
   "cell_type": "code",
   "execution_count": null,
   "metadata": {
    "colab": {
     "base_uri": "https://localhost:8080/"
    },
    "id": "qWiHrIBLncBi",
    "outputId": "8b83d134-404e-4caf-9ba5-9fa86093d358"
   },
   "outputs": [
    {
     "name": "stdout",
     "output_type": "stream",
     "text": [
      "not doing distributed\n",
      "INFO:tensorflow:found 0 GPUs\n",
      "INFO:tensorflow:Checkpoints and models saved at /content/iml2020/gnn_models\n",
      "INFO:tensorflow:1 epochs with batch size 1\n",
      "INFO:tensorflow:8 processing steps in the model\n",
      "INFO:tensorflow:I am in hvd rank: 0 of  total 1 ranks\n",
      "INFO:tensorflow:rank 0 has 1 training files and 1 evaluation files\n",
      "nodes [None, 3] float32\n",
      "edges [None, 1] float32\n",
      "receivers [None] int32\n",
      "senders [None] int32\n",
      "globals [1, 1] float32\n",
      "n_node [1] int32\n",
      "n_edge [1] int32\n",
      "nodes [None, 1] float32\n",
      "edges [None] float32\n",
      "receivers [None] int32\n",
      "senders [None] int32\n",
      "globals [1, 1] float32\n",
      "n_node [1] int32\n",
      "n_edge [1] int32\n",
      "INFO:tensorflow:Loading latest checkpoint from: /content/iml2020/gnn_models\n",
      "INFO:tensorflow:start epoch 0 on CPU\n",
      "Tracing update_step\n",
      "inputs nodes (None, 3)\n",
      "inputs edges (None, 1)\n",
      "input n_node (1,)\n",
      "Tensor(\"inputs_tr:0\", shape=(None, 3), dtype=float32)\n",
      "/usr/local/lib/python3.6/dist-packages/tensorflow/python/framework/indexed_slices.py:432: UserWarning: Converting sparse IndexedSlices to a dense Tensor of unknown shape. This may consume a large amount of memory.\n",
      "  \"Converting sparse IndexedSlices to a dense Tensor of unknown shape. \"\n",
      "Tracing update_step\n",
      "inputs nodes (None, 3)\n",
      "inputs edges (None, 1)\n",
      "input n_node (1,)\n",
      "Tensor(\"inputs_tr:0\", shape=(None, 3), dtype=float32)\n",
      "INFO:tensorflow:total batches: 1\n",
      "INFO:tensorflow:Training 0 epoch, 0.33 mins, Loss := 2.0989\n"
     ]
    }
   ],
   "source": [
    "!train_gnn_tf.py"
   ]
  },
  {
   "cell_type": "code",
   "execution_count": null,
   "metadata": {
    "colab": {
     "base_uri": "https://localhost:8080/"
    },
    "id": "5g8COZ1voMIX",
    "outputId": "f04bbae2-4d12-448a-ddc2-8fa91e45e782"
   },
   "outputs": [
    {
     "name": "stdout",
     "output_type": "stream",
     "text": [
      "not doing distributed\n",
      "INFO:tensorflow:found 0 GPUs\n",
      "INFO:tensorflow:Checkpoints and models saved at /content/iml2020/gnn_models\n",
      "INFO:tensorflow:5 epochs with batch size 1\n",
      "INFO:tensorflow:8 processing steps in the model\n",
      "INFO:tensorflow:I am in hvd rank: 0 of  total 1 ranks\n",
      "INFO:tensorflow:rank 0 has 1 training files and 1 evaluation files\n",
      "nodes [None, 3] float32\n",
      "edges [None, 1] float32\n",
      "receivers [None] int32\n",
      "senders [None] int32\n",
      "globals [1, 1] float32\n",
      "n_node [1] int32\n",
      "n_edge [1] int32\n",
      "nodes [None, 1] float32\n",
      "edges [None] float32\n",
      "receivers [None] int32\n",
      "senders [None] int32\n",
      "globals [1, 1] float32\n",
      "n_node [1] int32\n",
      "n_edge [1] int32\n",
      "INFO:tensorflow:Loading latest checkpoint from: /content/iml2020/gnn_models\n",
      "INFO:tensorflow:start epoch 0 on CPU\n",
      "Tracing update_step\n",
      "inputs nodes (None, 3)\n",
      "inputs edges (None, 1)\n",
      "input n_node (1,)\n",
      "Tensor(\"inputs_tr:0\", shape=(None, 3), dtype=float32)\n",
      "/usr/local/lib/python3.6/dist-packages/tensorflow/python/framework/indexed_slices.py:432: UserWarning: Converting sparse IndexedSlices to a dense Tensor of unknown shape. This may consume a large amount of memory.\n",
      "  \"Converting sparse IndexedSlices to a dense Tensor of unknown shape. \"\n",
      "Tracing update_step\n",
      "inputs nodes (None, 3)\n",
      "inputs edges (None, 1)\n",
      "input n_node (1,)\n",
      "Tensor(\"inputs_tr:0\", shape=(None, 3), dtype=float32)\n",
      "INFO:tensorflow:total batches: 1\n",
      "INFO:tensorflow:Training 0 epoch, 0.30 mins, Loss := 0.4687\n",
      "INFO:tensorflow:start epoch 1 on CPU\n",
      "INFO:tensorflow:total batches: 1\n",
      "INFO:tensorflow:Training 1 epoch, 0.08 mins, Loss := 0.4659\n",
      "INFO:tensorflow:start epoch 2 on CPU\n",
      "INFO:tensorflow:total batches: 1\n",
      "INFO:tensorflow:Training 2 epoch, 0.08 mins, Loss := 0.4624\n",
      "INFO:tensorflow:start epoch 3 on CPU\n",
      "INFO:tensorflow:total batches: 1\n",
      "INFO:tensorflow:Training 3 epoch, 0.08 mins, Loss := 0.4593\n",
      "INFO:tensorflow:start epoch 4 on CPU\n",
      "INFO:tensorflow:total batches: 1\n",
      "INFO:tensorflow:Training 4 epoch, 0.08 mins, Loss := 0.4571\n"
     ]
    }
   ],
   "source": [
    "!train_gnn_tf.py --max-epochs 5"
   ]
  },
  {
   "cell_type": "markdown",
   "metadata": {
    "id": "7zHzYYaooSFm"
   },
   "source": [
    "## Evaluating GNN"
   ]
  },
  {
   "cell_type": "code",
   "execution_count": null,
   "metadata": {
    "colab": {
     "base_uri": "https://localhost:8080/"
    },
    "id": "Cv_8E14OoRvu",
    "outputId": "fe71cb60-517a-4761-c692-7e368fb29e4d"
   },
   "outputs": [
    {
     "name": "stdout",
     "output_type": "stream",
     "text": [
      "usage: eval_gnn_tf.py [-h] [--input-dir INPUT_DIR] [--output-dir OUTPUT_DIR]\n",
      "                      [--model-dir MODEL_DIR] [--filter-dir FILTER_DIR]\n",
      "                      [--num-iters NUM_ITERS] [--inspect] [--overwrite]\n",
      "                      [--max-evts MAX_EVTS] [--datatype {train,val,test}]\n",
      "\n",
      "Evaluate trained GNN model\n",
      "\n",
      "optional arguments:\n",
      "  -h, --help            show this help message and exit\n",
      "  --input-dir INPUT_DIR\n",
      "                        input directory\n",
      "  --output-dir OUTPUT_DIR\n",
      "                        output directory\n",
      "  --model-dir MODEL_DIR\n",
      "                        model directory\n",
      "  --filter-dir FILTER_DIR\n",
      "                        filtering file directory\n",
      "  --num-iters NUM_ITERS\n",
      "                        number of message passing steps\n",
      "  --inspect             inspect intermediate results\n",
      "  --overwrite           overwrite the output\n",
      "  --max-evts MAX_EVTS   process maximum number of events\n",
      "  --datatype {train,val,test}\n"
     ]
    }
   ],
   "source": [
    "!eval_gnn_tf.py --help"
   ]
  },
  {
   "cell_type": "code",
   "execution_count": null,
   "metadata": {
    "colab": {
     "base_uri": "https://localhost:8080/"
    },
    "id": "s62tKP18oled",
    "outputId": "9c310e65-1e61-4e2f-a654-2f0172e65d9f"
   },
   "outputs": [
    {
     "name": "stdout",
     "output_type": "stream",
     "text": [
      "Input file names: ['/content/iml2020/gnn_inputs/test/1001']\n",
      "In total 1 files\n",
      "Process 1 events\n",
      "nodes [None, 3] float32\n",
      "edges [None, 1] float32\n",
      "receivers [None] int32\n",
      "senders [None] int32\n",
      "globals [1, 1] float32\n",
      "n_node [1] int32\n",
      "n_edge [1] int32\n",
      "nodes [None, 1] float32\n",
      "edges [None] float32\n",
      "receivers [None] int32\n",
      "senders [None] int32\n",
      "globals [1, 1] float32\n",
      "n_node [1] int32\n",
      "n_edge [1] int32\n",
      "Find model: /content/iml2020/gnn_models\n",
      "Loaded latest checkpoint from: /content/iml2020/gnn_models\n",
      "processing event 1001\n",
      "4,884 nodes\n",
      "40,570 edges\n",
      "/usr/local/lib/python3.6/dist-packages/sklearn/metrics/_classification.py:1272: UndefinedMetricWarning: Precision is ill-defined and being set to 0.0 due to no predicted samples. Use `zero_division` parameter to control this behavior.\n",
      "  _warn_prf(average, modifier, msg_start, len(result))\n",
      "GNN threshold:       0.10    0.50    0.80\n",
      "Accuracy:            0.9772 0.9772 0.9772\n",
      "Precision (purity):  0.0000 0.0000 0.0000\n",
      "Recall (efficiency): 0.0000 0.0000 0.0000\n",
      "AUC: 0.5002\n"
     ]
    }
   ],
   "source": [
    "!eval_gnn_tf.py"
   ]
  },
  {
   "cell_type": "markdown",
   "metadata": {
    "id": "CuAYDJI6Uq08"
   },
   "source": [
    "# Track labeling"
   ]
  },
  {
   "cell_type": "code",
   "execution_count": null,
   "metadata": {
    "id": "4AdoQjJbUovn"
   },
   "outputs": [],
   "source": [
    "def prepare(score, senders, receivers, n_nodes):\n",
    "    # prepare the DBSCAN input, which the adjancy matrix with its value being the edge socre.\n",
    "    e_csr = sp.sparse.csr_matrix( (score, (senders, receivers)), shape=(n_nodes, n_nodes), dtype=np.float32)\n",
    "    # rescale the duplicated edges\n",
    "    e_csr.data[e_csr.data > 1] = e_csr.data[e_csr.data > 1]/2.\n",
    "    # invert to treat score as an inverse distance\n",
    "    e_csr.data = 1 - e_csr.data\n",
    "    # make it symmetric\n",
    "    e_csr_bi = sp.sparse.coo_matrix((np.hstack([e_csr.tocoo().data, e_csr.tocoo().data]), \n",
    "                                    np.hstack([np.vstack([e_csr.tocoo().row, e_csr.tocoo().col]),                                                                   \n",
    "                                                np.vstack([e_csr.tocoo().col, e_csr.tocoo().row])])))\n",
    "    return e_csr_bi\n",
    "\n",
    "def clustering(e_csr_bi, epsilon=5, min_samples=1):\n",
    "    # dbscan clustering\n",
    "    clustering = DBSCAN(eps=epsilon, metric='precomputed', min_samples=1).fit_predict(e_csr_bi)\n",
    "    track_labels = np.vstack([np.unique(e_csr_bi.tocoo().row), clustering[np.unique(e_csr_bi.tocoo().row)]])\n",
    "    track_labels = pd.DataFrame(track_labels.T)\n",
    "    track_labels.columns = [\"hit_id\", \"track_id\"]\n",
    "    new_hit_id = np.apply_along_axis(lambda x: used_hits[x], 0, track_labels.hit_id.values)\n",
    "    tracks = pd.DataFrame.from_dict({\"hit_id\": new_hit_id, \"track_id\": track_labels.track_id})\n",
    "    return tracks"
   ]
  },
  {
   "cell_type": "code",
   "execution_count": null,
   "metadata": {
    "colab": {
     "base_uri": "https://localhost:8080/"
    },
    "id": "r5dgXfdMclbd",
    "outputId": "1d4d27da-7c88-4d1d-fef4-0b1e2c5f4250"
   },
   "outputs": [
    {
     "name": "stdout",
     "output_type": "stream",
     "text": [
      "usage: tracks_from_gnn.py [-h] [--max-evts MAX_EVTS] [--input-dir INPUT_DIR]\n",
      "                          [--output-dir OUTPUT_DIR]\n",
      "                          [--datatype {train,val,test}]\n",
      "                          [--edge-score-cut EDGE_SCORE_CUT]\n",
      "                          [--epsilon EPSILON] [--min-samples MIN_SAMPLES]\n",
      "                          [--min-num-hits MIN_NUM_HITS]\n",
      "\n",
      "construct tracks from the input created by the evaluate_edge_classifier\n",
      "\n",
      "optional arguments:\n",
      "  -h, --help            show this help message and exit\n",
      "  --max-evts MAX_EVTS   maximum number of events for testing\n",
      "  --input-dir INPUT_DIR\n",
      "                        input directory\n",
      "  --output-dir OUTPUT_DIR\n",
      "                        output file directory for track candidates\n",
      "  --datatype {train,val,test}\n",
      "  --edge-score-cut EDGE_SCORE_CUT\n",
      "                        edge score cuts\n",
      "  --epsilon EPSILON     epsilon in DBScan\n",
      "  --min-samples MIN_SAMPLES\n",
      "                        minimum number of samples in DBScan\n",
      "  --min-num-hits MIN_NUM_HITS\n",
      "                        require minimum number of hits for each track\n"
     ]
    }
   ],
   "source": [
    "!tracks_from_gnn.py --help"
   ]
  },
  {
   "cell_type": "code",
   "execution_count": null,
   "metadata": {
    "colab": {
     "base_uri": "https://localhost:8080/"
    },
    "id": "lNHj9T5rpCME",
    "outputId": "66c1c1b0-686b-429d-b1e7-7896f8d81482"
   },
   "outputs": [
    {
     "name": "stdout",
     "output_type": "stream",
     "text": [
      "total 1 files for test\n",
      "/usr/local/lib/python3.6/dist-packages/sklearn/neighbors/_base.py:168: EfficiencyWarning: Precomputed sparse input was not sorted by data.\n",
      "  EfficiencyWarning)\n",
      "Event 1001 has track ML score: 0.0170\n"
     ]
    }
   ],
   "source": [
    "!tracks_from_gnn.py"
   ]
  },
  {
   "cell_type": "markdown",
   "metadata": {
    "id": "OZDHMIgspRUc"
   },
   "source": [
    "# Conclusion\n",
    "The track ML score is not good. A couple of handles can be tuned to get a good result. With more data for training, the Embedding, Filtering and GNN will be significantly improved. Some hyperparameters in each stage are also crucial. Now it is up to you to find the optimal parameters for problems in question.\n",
    "\n",
    "\n",
    "Have Fun.\n",
    "\n",
    "Exa.TrkX collaboration."
   ]
  },
  {
   "cell_type": "code",
   "execution_count": null,
   "metadata": {
    "id": "lFSs-j9NPfBL"
   },
   "outputs": [],
   "source": []
  }
 ],
 "metadata": {
  "colab": {
   "authorship_tag": "ABX9TyNaKUE+8dIYvZ2A4303nNX1",
   "collapsed_sections": [],
   "include_colab_link": true,
   "name": "WalkThroughGNN4Tracking.ipynb",
   "provenance": []
  },
  "kernelspec": {
   "display_name": "Python 3",
   "language": "python",
   "name": "python3"
  },
  "language_info": {
   "codemirror_mode": {
    "name": "ipython",
    "version": 3
   },
   "file_extension": ".py",
   "mimetype": "text/x-python",
   "name": "python",
   "nbconvert_exporter": "python",
   "pygments_lexer": "ipython3",
   "version": "3.7.4"
  },
  "widgets": {
   "application/vnd.jupyter.widget-state+json": {
    "05dda350689a4e0cba0dbdff036e907f": {
     "model_module": "@jupyter-widgets/base",
     "model_name": "LayoutModel",
     "state": {
      "_model_module": "@jupyter-widgets/base",
      "_model_module_version": "1.2.0",
      "_model_name": "LayoutModel",
      "_view_count": null,
      "_view_module": "@jupyter-widgets/base",
      "_view_module_version": "1.2.0",
      "_view_name": "LayoutView",
      "align_content": null,
      "align_items": null,
      "align_self": null,
      "border": null,
      "bottom": null,
      "display": null,
      "flex": null,
      "flex_flow": null,
      "grid_area": null,
      "grid_auto_columns": null,
      "grid_auto_flow": null,
      "grid_auto_rows": null,
      "grid_column": null,
      "grid_gap": null,
      "grid_row": null,
      "grid_template_areas": null,
      "grid_template_columns": null,
      "grid_template_rows": null,
      "height": null,
      "justify_content": null,
      "justify_items": null,
      "left": null,
      "margin": null,
      "max_height": null,
      "max_width": null,
      "min_height": null,
      "min_width": null,
      "object_fit": null,
      "object_position": null,
      "order": null,
      "overflow": null,
      "overflow_x": null,
      "overflow_y": null,
      "padding": null,
      "right": null,
      "top": null,
      "visibility": null,
      "width": null
     }
    },
    "0b6439920ba7446a90b0da08a0edf046": {
     "model_module": "@jupyter-widgets/controls",
     "model_name": "DescriptionStyleModel",
     "state": {
      "_model_module": "@jupyter-widgets/controls",
      "_model_module_version": "1.5.0",
      "_model_name": "DescriptionStyleModel",
      "_view_count": null,
      "_view_module": "@jupyter-widgets/base",
      "_view_module_version": "1.2.0",
      "_view_name": "StyleView",
      "description_width": ""
     }
    },
    "0b9e9ef4614c4b85bbce33f3c1cb0844": {
     "model_module": "@jupyter-widgets/base",
     "model_name": "LayoutModel",
     "state": {
      "_model_module": "@jupyter-widgets/base",
      "_model_module_version": "1.2.0",
      "_model_name": "LayoutModel",
      "_view_count": null,
      "_view_module": "@jupyter-widgets/base",
      "_view_module_version": "1.2.0",
      "_view_name": "LayoutView",
      "align_content": null,
      "align_items": null,
      "align_self": null,
      "border": null,
      "bottom": null,
      "display": null,
      "flex": "2",
      "flex_flow": null,
      "grid_area": null,
      "grid_auto_columns": null,
      "grid_auto_flow": null,
      "grid_auto_rows": null,
      "grid_column": null,
      "grid_gap": null,
      "grid_row": null,
      "grid_template_areas": null,
      "grid_template_columns": null,
      "grid_template_rows": null,
      "height": null,
      "justify_content": null,
      "justify_items": null,
      "left": null,
      "margin": null,
      "max_height": null,
      "max_width": null,
      "min_height": null,
      "min_width": null,
      "object_fit": null,
      "object_position": null,
      "order": null,
      "overflow": null,
      "overflow_x": null,
      "overflow_y": null,
      "padding": null,
      "right": null,
      "top": null,
      "visibility": null,
      "width": null
     }
    },
    "19efe0ba3cf34a85becc1867d1299bbb": {
     "model_module": "@jupyter-widgets/controls",
     "model_name": "ProgressStyleModel",
     "state": {
      "_model_module": "@jupyter-widgets/controls",
      "_model_module_version": "1.5.0",
      "_model_name": "ProgressStyleModel",
      "_view_count": null,
      "_view_module": "@jupyter-widgets/base",
      "_view_module_version": "1.2.0",
      "_view_name": "StyleView",
      "bar_color": null,
      "description_width": "initial"
     }
    },
    "1c05afbd962f41c7802e475bcb67b1cc": {
     "model_module": "@jupyter-widgets/base",
     "model_name": "LayoutModel",
     "state": {
      "_model_module": "@jupyter-widgets/base",
      "_model_module_version": "1.2.0",
      "_model_name": "LayoutModel",
      "_view_count": null,
      "_view_module": "@jupyter-widgets/base",
      "_view_module_version": "1.2.0",
      "_view_name": "LayoutView",
      "align_content": null,
      "align_items": null,
      "align_self": null,
      "border": null,
      "bottom": null,
      "display": null,
      "flex": "2",
      "flex_flow": null,
      "grid_area": null,
      "grid_auto_columns": null,
      "grid_auto_flow": null,
      "grid_auto_rows": null,
      "grid_column": null,
      "grid_gap": null,
      "grid_row": null,
      "grid_template_areas": null,
      "grid_template_columns": null,
      "grid_template_rows": null,
      "height": null,
      "justify_content": null,
      "justify_items": null,
      "left": null,
      "margin": null,
      "max_height": null,
      "max_width": null,
      "min_height": null,
      "min_width": null,
      "object_fit": null,
      "object_position": null,
      "order": null,
      "overflow": null,
      "overflow_x": null,
      "overflow_y": null,
      "padding": null,
      "right": null,
      "top": null,
      "visibility": null,
      "width": null
     }
    },
    "1c89a8f8631b4d4f9b139e8838b98ba8": {
     "model_module": "@jupyter-widgets/controls",
     "model_name": "HTMLModel",
     "state": {
      "_dom_classes": [],
      "_model_module": "@jupyter-widgets/controls",
      "_model_module_version": "1.5.0",
      "_model_name": "HTMLModel",
      "_view_count": null,
      "_view_module": "@jupyter-widgets/controls",
      "_view_module_version": "1.5.0",
      "_view_name": "HTMLView",
      "description": "",
      "description_tooltip": null,
      "layout": "IPY_MODEL_3042711720aa4be48589759b63c0f293",
      "placeholder": "​",
      "style": "IPY_MODEL_d3ca03e2f0ae42799cd67fc9a43d47ae",
      "value": " 2/2 [03:28&lt;00:00, 104.18s/it, loss=1.182, v_num=1, train_loss=1.17, val_loss=0.697, val_eff=0.554, val_pur=0.00927]"
     }
    },
    "2262d445a8594280b7fa6ab2e851b194": {
     "model_module": "@jupyter-widgets/base",
     "model_name": "LayoutModel",
     "state": {
      "_model_module": "@jupyter-widgets/base",
      "_model_module_version": "1.2.0",
      "_model_name": "LayoutModel",
      "_view_count": null,
      "_view_module": "@jupyter-widgets/base",
      "_view_module_version": "1.2.0",
      "_view_name": "LayoutView",
      "align_content": null,
      "align_items": null,
      "align_self": null,
      "border": null,
      "bottom": null,
      "display": "inline-flex",
      "flex": null,
      "flex_flow": "row wrap",
      "grid_area": null,
      "grid_auto_columns": null,
      "grid_auto_flow": null,
      "grid_auto_rows": null,
      "grid_column": null,
      "grid_gap": null,
      "grid_row": null,
      "grid_template_areas": null,
      "grid_template_columns": null,
      "grid_template_rows": null,
      "height": null,
      "justify_content": null,
      "justify_items": null,
      "left": null,
      "margin": null,
      "max_height": null,
      "max_width": null,
      "min_height": null,
      "min_width": null,
      "object_fit": null,
      "object_position": null,
      "order": null,
      "overflow": null,
      "overflow_x": null,
      "overflow_y": null,
      "padding": null,
      "right": null,
      "top": null,
      "visibility": null,
      "width": "100%"
     }
    },
    "2aeabdb8abfb40b39a82dddd641318e4": {
     "model_module": "@jupyter-widgets/base",
     "model_name": "LayoutModel",
     "state": {
      "_model_module": "@jupyter-widgets/base",
      "_model_module_version": "1.2.0",
      "_model_name": "LayoutModel",
      "_view_count": null,
      "_view_module": "@jupyter-widgets/base",
      "_view_module_version": "1.2.0",
      "_view_name": "LayoutView",
      "align_content": null,
      "align_items": null,
      "align_self": null,
      "border": null,
      "bottom": null,
      "display": "inline-flex",
      "flex": null,
      "flex_flow": "row wrap",
      "grid_area": null,
      "grid_auto_columns": null,
      "grid_auto_flow": null,
      "grid_auto_rows": null,
      "grid_column": null,
      "grid_gap": null,
      "grid_row": null,
      "grid_template_areas": null,
      "grid_template_columns": null,
      "grid_template_rows": null,
      "height": null,
      "justify_content": null,
      "justify_items": null,
      "left": null,
      "margin": null,
      "max_height": null,
      "max_width": null,
      "min_height": null,
      "min_width": null,
      "object_fit": null,
      "object_position": null,
      "order": null,
      "overflow": null,
      "overflow_x": null,
      "overflow_y": null,
      "padding": null,
      "right": null,
      "top": null,
      "visibility": null,
      "width": "100%"
     }
    },
    "2d5743ed68f24700951417f49c4dda47": {
     "model_module": "@jupyter-widgets/controls",
     "model_name": "HTMLModel",
     "state": {
      "_dom_classes": [],
      "_model_module": "@jupyter-widgets/controls",
      "_model_module_version": "1.5.0",
      "_model_name": "HTMLModel",
      "_view_count": null,
      "_view_module": "@jupyter-widgets/controls",
      "_view_module_version": "1.5.0",
      "_view_name": "HTMLView",
      "description": "",
      "description_tooltip": null,
      "layout": "IPY_MODEL_e39f057c5dd44ef2a33e60c85ea942f6",
      "placeholder": "​",
      "style": "IPY_MODEL_57ad7a0194ba491eafd086b22da58b3e",
      "value": " 1/1 [00:01&lt;00:00,  1.52s/it]"
     }
    },
    "3003297e18a54a30b54f5ee3eb526fc3": {
     "model_module": "@jupyter-widgets/controls",
     "model_name": "DescriptionStyleModel",
     "state": {
      "_model_module": "@jupyter-widgets/controls",
      "_model_module_version": "1.5.0",
      "_model_name": "DescriptionStyleModel",
      "_view_count": null,
      "_view_module": "@jupyter-widgets/base",
      "_view_module_version": "1.2.0",
      "_view_name": "StyleView",
      "description_width": ""
     }
    },
    "3042711720aa4be48589759b63c0f293": {
     "model_module": "@jupyter-widgets/base",
     "model_name": "LayoutModel",
     "state": {
      "_model_module": "@jupyter-widgets/base",
      "_model_module_version": "1.2.0",
      "_model_name": "LayoutModel",
      "_view_count": null,
      "_view_module": "@jupyter-widgets/base",
      "_view_module_version": "1.2.0",
      "_view_name": "LayoutView",
      "align_content": null,
      "align_items": null,
      "align_self": null,
      "border": null,
      "bottom": null,
      "display": null,
      "flex": null,
      "flex_flow": null,
      "grid_area": null,
      "grid_auto_columns": null,
      "grid_auto_flow": null,
      "grid_auto_rows": null,
      "grid_column": null,
      "grid_gap": null,
      "grid_row": null,
      "grid_template_areas": null,
      "grid_template_columns": null,
      "grid_template_rows": null,
      "height": null,
      "justify_content": null,
      "justify_items": null,
      "left": null,
      "margin": null,
      "max_height": null,
      "max_width": null,
      "min_height": null,
      "min_width": null,
      "object_fit": null,
      "object_position": null,
      "order": null,
      "overflow": null,
      "overflow_x": null,
      "overflow_y": null,
      "padding": null,
      "right": null,
      "top": null,
      "visibility": null,
      "width": null
     }
    },
    "30463987ebdd487185651d5a9e513128": {
     "model_module": "@jupyter-widgets/controls",
     "model_name": "HTMLModel",
     "state": {
      "_dom_classes": [],
      "_model_module": "@jupyter-widgets/controls",
      "_model_module_version": "1.5.0",
      "_model_name": "HTMLModel",
      "_view_count": null,
      "_view_module": "@jupyter-widgets/controls",
      "_view_module_version": "1.5.0",
      "_view_name": "HTMLView",
      "description": "",
      "description_tooltip": null,
      "layout": "IPY_MODEL_8683d7fe14f640ac959da423bab81db6",
      "placeholder": "​",
      "style": "IPY_MODEL_c22a38f24c6c4a8eb7da40d0d353dd5b",
      "value": " 1/1 [00:06&lt;00:00,  5.92s/it]"
     }
    },
    "30fb255df60840829b13ab6a7bb27536": {
     "model_module": "@jupyter-widgets/base",
     "model_name": "LayoutModel",
     "state": {
      "_model_module": "@jupyter-widgets/base",
      "_model_module_version": "1.2.0",
      "_model_name": "LayoutModel",
      "_view_count": null,
      "_view_module": "@jupyter-widgets/base",
      "_view_module_version": "1.2.0",
      "_view_name": "LayoutView",
      "align_content": null,
      "align_items": null,
      "align_self": null,
      "border": null,
      "bottom": null,
      "display": null,
      "flex": "2",
      "flex_flow": null,
      "grid_area": null,
      "grid_auto_columns": null,
      "grid_auto_flow": null,
      "grid_auto_rows": null,
      "grid_column": null,
      "grid_gap": null,
      "grid_row": null,
      "grid_template_areas": null,
      "grid_template_columns": null,
      "grid_template_rows": null,
      "height": null,
      "justify_content": null,
      "justify_items": null,
      "left": null,
      "margin": null,
      "max_height": null,
      "max_width": null,
      "min_height": null,
      "min_width": null,
      "object_fit": null,
      "object_position": null,
      "order": null,
      "overflow": null,
      "overflow_x": null,
      "overflow_y": null,
      "padding": null,
      "right": null,
      "top": null,
      "visibility": null,
      "width": null
     }
    },
    "3af102ccecd14ca894a30a8a2d523a40": {
     "model_module": "@jupyter-widgets/base",
     "model_name": "LayoutModel",
     "state": {
      "_model_module": "@jupyter-widgets/base",
      "_model_module_version": "1.2.0",
      "_model_name": "LayoutModel",
      "_view_count": null,
      "_view_module": "@jupyter-widgets/base",
      "_view_module_version": "1.2.0",
      "_view_name": "LayoutView",
      "align_content": null,
      "align_items": null,
      "align_self": null,
      "border": null,
      "bottom": null,
      "display": null,
      "flex": "2",
      "flex_flow": null,
      "grid_area": null,
      "grid_auto_columns": null,
      "grid_auto_flow": null,
      "grid_auto_rows": null,
      "grid_column": null,
      "grid_gap": null,
      "grid_row": null,
      "grid_template_areas": null,
      "grid_template_columns": null,
      "grid_template_rows": null,
      "height": null,
      "justify_content": null,
      "justify_items": null,
      "left": null,
      "margin": null,
      "max_height": null,
      "max_width": null,
      "min_height": null,
      "min_width": null,
      "object_fit": null,
      "object_position": null,
      "order": null,
      "overflow": null,
      "overflow_x": null,
      "overflow_y": null,
      "padding": null,
      "right": null,
      "top": null,
      "visibility": null,
      "width": null
     }
    },
    "4913594a91a0431580b8200d1f61b4b0": {
     "model_module": "@jupyter-widgets/controls",
     "model_name": "HBoxModel",
     "state": {
      "_dom_classes": [],
      "_model_module": "@jupyter-widgets/controls",
      "_model_module_version": "1.5.0",
      "_model_name": "HBoxModel",
      "_view_count": null,
      "_view_module": "@jupyter-widgets/controls",
      "_view_module_version": "1.5.0",
      "_view_name": "HBoxView",
      "box_style": "",
      "children": [
       "IPY_MODEL_de48527c13fe4b959eae9ce31caca633",
       "IPY_MODEL_a9da56f04cb34272a199a2703e7c410e"
      ],
      "layout": "IPY_MODEL_5037bff6409c4a5492e5ba91564f2681"
     }
    },
    "49b5388398ba4e86b23d0a2f589fa57f": {
     "model_module": "@jupyter-widgets/controls",
     "model_name": "FloatProgressModel",
     "state": {
      "_dom_classes": [],
      "_model_module": "@jupyter-widgets/controls",
      "_model_module_version": "1.5.0",
      "_model_name": "FloatProgressModel",
      "_view_count": null,
      "_view_module": "@jupyter-widgets/controls",
      "_view_module_version": "1.5.0",
      "_view_name": "ProgressView",
      "bar_style": "info",
      "description": "Validation sanity check: 100%",
      "description_tooltip": null,
      "layout": "IPY_MODEL_0b9e9ef4614c4b85bbce33f3c1cb0844",
      "max": 1,
      "min": 0,
      "orientation": "horizontal",
      "style": "IPY_MODEL_7e497035705a4c92bee4f36820636c17",
      "value": 1
     }
    },
    "5037bff6409c4a5492e5ba91564f2681": {
     "model_module": "@jupyter-widgets/base",
     "model_name": "LayoutModel",
     "state": {
      "_model_module": "@jupyter-widgets/base",
      "_model_module_version": "1.2.0",
      "_model_name": "LayoutModel",
      "_view_count": null,
      "_view_module": "@jupyter-widgets/base",
      "_view_module_version": "1.2.0",
      "_view_name": "LayoutView",
      "align_content": null,
      "align_items": null,
      "align_self": null,
      "border": null,
      "bottom": null,
      "display": "inline-flex",
      "flex": null,
      "flex_flow": "row wrap",
      "grid_area": null,
      "grid_auto_columns": null,
      "grid_auto_flow": null,
      "grid_auto_rows": null,
      "grid_column": null,
      "grid_gap": null,
      "grid_row": null,
      "grid_template_areas": null,
      "grid_template_columns": null,
      "grid_template_rows": null,
      "height": null,
      "justify_content": null,
      "justify_items": null,
      "left": null,
      "margin": null,
      "max_height": null,
      "max_width": null,
      "min_height": null,
      "min_width": null,
      "object_fit": null,
      "object_position": null,
      "order": null,
      "overflow": null,
      "overflow_x": null,
      "overflow_y": null,
      "padding": null,
      "right": null,
      "top": null,
      "visibility": null,
      "width": "100%"
     }
    },
    "53a699d3e609459887c880f897cc4fec": {
     "model_module": "@jupyter-widgets/controls",
     "model_name": "FloatProgressModel",
     "state": {
      "_dom_classes": [],
      "_model_module": "@jupyter-widgets/controls",
      "_model_module_version": "1.5.0",
      "_model_name": "FloatProgressModel",
      "_view_count": null,
      "_view_module": "@jupyter-widgets/controls",
      "_view_module_version": "1.5.0",
      "_view_name": "ProgressView",
      "bar_style": "info",
      "description": "Validation sanity check: 100%",
      "description_tooltip": null,
      "layout": "IPY_MODEL_30fb255df60840829b13ab6a7bb27536",
      "max": 1,
      "min": 0,
      "orientation": "horizontal",
      "style": "IPY_MODEL_19efe0ba3cf34a85becc1867d1299bbb",
      "value": 1
     }
    },
    "57ad7a0194ba491eafd086b22da58b3e": {
     "model_module": "@jupyter-widgets/controls",
     "model_name": "DescriptionStyleModel",
     "state": {
      "_model_module": "@jupyter-widgets/controls",
      "_model_module_version": "1.5.0",
      "_model_name": "DescriptionStyleModel",
      "_view_count": null,
      "_view_module": "@jupyter-widgets/base",
      "_view_module_version": "1.2.0",
      "_view_name": "StyleView",
      "description_width": ""
     }
    },
    "5cffdd65a1e044d1ab1b40a1fbb1fe03": {
     "model_module": "@jupyter-widgets/controls",
     "model_name": "HBoxModel",
     "state": {
      "_dom_classes": [],
      "_model_module": "@jupyter-widgets/controls",
      "_model_module_version": "1.5.0",
      "_model_name": "HBoxModel",
      "_view_count": null,
      "_view_module": "@jupyter-widgets/controls",
      "_view_module_version": "1.5.0",
      "_view_name": "HBoxView",
      "box_style": "",
      "children": [
       "IPY_MODEL_95564cb1bb944c7da935a3678f67e348",
       "IPY_MODEL_1c89a8f8631b4d4f9b139e8838b98ba8"
      ],
      "layout": "IPY_MODEL_e788c79484e14d418a308e9ba8621a47"
     }
    },
    "6ac706d74367472cb9de3d464df3867a": {
     "model_module": "@jupyter-widgets/base",
     "model_name": "LayoutModel",
     "state": {
      "_model_module": "@jupyter-widgets/base",
      "_model_module_version": "1.2.0",
      "_model_name": "LayoutModel",
      "_view_count": null,
      "_view_module": "@jupyter-widgets/base",
      "_view_module_version": "1.2.0",
      "_view_name": "LayoutView",
      "align_content": null,
      "align_items": null,
      "align_self": null,
      "border": null,
      "bottom": null,
      "display": null,
      "flex": null,
      "flex_flow": null,
      "grid_area": null,
      "grid_auto_columns": null,
      "grid_auto_flow": null,
      "grid_auto_rows": null,
      "grid_column": null,
      "grid_gap": null,
      "grid_row": null,
      "grid_template_areas": null,
      "grid_template_columns": null,
      "grid_template_rows": null,
      "height": null,
      "justify_content": null,
      "justify_items": null,
      "left": null,
      "margin": null,
      "max_height": null,
      "max_width": null,
      "min_height": null,
      "min_width": null,
      "object_fit": null,
      "object_position": null,
      "order": null,
      "overflow": null,
      "overflow_x": null,
      "overflow_y": null,
      "padding": null,
      "right": null,
      "top": null,
      "visibility": null,
      "width": null
     }
    },
    "6cba1d955d844a42ace3252f1758876e": {
     "model_module": "@jupyter-widgets/controls",
     "model_name": "ProgressStyleModel",
     "state": {
      "_model_module": "@jupyter-widgets/controls",
      "_model_module_version": "1.5.0",
      "_model_name": "ProgressStyleModel",
      "_view_count": null,
      "_view_module": "@jupyter-widgets/base",
      "_view_module_version": "1.2.0",
      "_view_name": "StyleView",
      "bar_color": null,
      "description_width": "initial"
     }
    },
    "6e9a9406cf8e4ba3b5657ca5fff782ac": {
     "model_module": "@jupyter-widgets/controls",
     "model_name": "FloatProgressModel",
     "state": {
      "_dom_classes": [],
      "_model_module": "@jupyter-widgets/controls",
      "_model_module_version": "1.5.0",
      "_model_name": "FloatProgressModel",
      "_view_count": null,
      "_view_module": "@jupyter-widgets/controls",
      "_view_module_version": "1.5.0",
      "_view_name": "ProgressView",
      "bar_style": "info",
      "description": "Validating: 100%",
      "description_tooltip": null,
      "layout": "IPY_MODEL_d71f11fcaff3408b8665f0c972a0f489",
      "max": 1,
      "min": 0,
      "orientation": "horizontal",
      "style": "IPY_MODEL_8e585c49a2784d7da7b95ac1388bf939",
      "value": 1
     }
    },
    "740708443b8e41b4991059143f710d8b": {
     "model_module": "@jupyter-widgets/base",
     "model_name": "LayoutModel",
     "state": {
      "_model_module": "@jupyter-widgets/base",
      "_model_module_version": "1.2.0",
      "_model_name": "LayoutModel",
      "_view_count": null,
      "_view_module": "@jupyter-widgets/base",
      "_view_module_version": "1.2.0",
      "_view_name": "LayoutView",
      "align_content": null,
      "align_items": null,
      "align_self": null,
      "border": null,
      "bottom": null,
      "display": null,
      "flex": null,
      "flex_flow": null,
      "grid_area": null,
      "grid_auto_columns": null,
      "grid_auto_flow": null,
      "grid_auto_rows": null,
      "grid_column": null,
      "grid_gap": null,
      "grid_row": null,
      "grid_template_areas": null,
      "grid_template_columns": null,
      "grid_template_rows": null,
      "height": null,
      "justify_content": null,
      "justify_items": null,
      "left": null,
      "margin": null,
      "max_height": null,
      "max_width": null,
      "min_height": null,
      "min_width": null,
      "object_fit": null,
      "object_position": null,
      "order": null,
      "overflow": null,
      "overflow_x": null,
      "overflow_y": null,
      "padding": null,
      "right": null,
      "top": null,
      "visibility": null,
      "width": null
     }
    },
    "77194c6abd894500a39e4ecd6c7ff895": {
     "model_module": "@jupyter-widgets/controls",
     "model_name": "DescriptionStyleModel",
     "state": {
      "_model_module": "@jupyter-widgets/controls",
      "_model_module_version": "1.5.0",
      "_model_name": "DescriptionStyleModel",
      "_view_count": null,
      "_view_module": "@jupyter-widgets/base",
      "_view_module_version": "1.2.0",
      "_view_name": "StyleView",
      "description_width": ""
     }
    },
    "7e497035705a4c92bee4f36820636c17": {
     "model_module": "@jupyter-widgets/controls",
     "model_name": "ProgressStyleModel",
     "state": {
      "_model_module": "@jupyter-widgets/controls",
      "_model_module_version": "1.5.0",
      "_model_name": "ProgressStyleModel",
      "_view_count": null,
      "_view_module": "@jupyter-widgets/base",
      "_view_module_version": "1.2.0",
      "_view_name": "StyleView",
      "bar_color": null,
      "description_width": "initial"
     }
    },
    "7ee7859a0ef4408b93bf1bb990252e38": {
     "model_module": "@jupyter-widgets/controls",
     "model_name": "HTMLModel",
     "state": {
      "_dom_classes": [],
      "_model_module": "@jupyter-widgets/controls",
      "_model_module_version": "1.5.0",
      "_model_name": "HTMLModel",
      "_view_count": null,
      "_view_module": "@jupyter-widgets/controls",
      "_view_module_version": "1.5.0",
      "_view_name": "HTMLView",
      "description": "",
      "description_tooltip": null,
      "layout": "IPY_MODEL_740708443b8e41b4991059143f710d8b",
      "placeholder": "​",
      "style": "IPY_MODEL_0b6439920ba7446a90b0da08a0edf046",
      "value": " 1/1 [00:05&lt;00:00,  5.91s/it]"
     }
    },
    "8683d7fe14f640ac959da423bab81db6": {
     "model_module": "@jupyter-widgets/base",
     "model_name": "LayoutModel",
     "state": {
      "_model_module": "@jupyter-widgets/base",
      "_model_module_version": "1.2.0",
      "_model_name": "LayoutModel",
      "_view_count": null,
      "_view_module": "@jupyter-widgets/base",
      "_view_module_version": "1.2.0",
      "_view_name": "LayoutView",
      "align_content": null,
      "align_items": null,
      "align_self": null,
      "border": null,
      "bottom": null,
      "display": null,
      "flex": null,
      "flex_flow": null,
      "grid_area": null,
      "grid_auto_columns": null,
      "grid_auto_flow": null,
      "grid_auto_rows": null,
      "grid_column": null,
      "grid_gap": null,
      "grid_row": null,
      "grid_template_areas": null,
      "grid_template_columns": null,
      "grid_template_rows": null,
      "height": null,
      "justify_content": null,
      "justify_items": null,
      "left": null,
      "margin": null,
      "max_height": null,
      "max_width": null,
      "min_height": null,
      "min_width": null,
      "object_fit": null,
      "object_position": null,
      "order": null,
      "overflow": null,
      "overflow_x": null,
      "overflow_y": null,
      "padding": null,
      "right": null,
      "top": null,
      "visibility": null,
      "width": null
     }
    },
    "869fb51b82c74fb6ad5f4b8a3de119fa": {
     "model_module": "@jupyter-widgets/controls",
     "model_name": "HBoxModel",
     "state": {
      "_dom_classes": [],
      "_model_module": "@jupyter-widgets/controls",
      "_model_module_version": "1.5.0",
      "_model_name": "HBoxModel",
      "_view_count": null,
      "_view_module": "@jupyter-widgets/controls",
      "_view_module_version": "1.5.0",
      "_view_name": "HBoxView",
      "box_style": "",
      "children": [
       "IPY_MODEL_49b5388398ba4e86b23d0a2f589fa57f",
       "IPY_MODEL_2d5743ed68f24700951417f49c4dda47"
      ],
      "layout": "IPY_MODEL_2262d445a8594280b7fa6ab2e851b194"
     }
    },
    "8e585c49a2784d7da7b95ac1388bf939": {
     "model_module": "@jupyter-widgets/controls",
     "model_name": "ProgressStyleModel",
     "state": {
      "_model_module": "@jupyter-widgets/controls",
      "_model_module_version": "1.5.0",
      "_model_name": "ProgressStyleModel",
      "_view_count": null,
      "_view_module": "@jupyter-widgets/base",
      "_view_module_version": "1.2.0",
      "_view_name": "StyleView",
      "bar_color": null,
      "description_width": "initial"
     }
    },
    "8f082f43bae647a8b854327ebd65a93e": {
     "model_module": "@jupyter-widgets/controls",
     "model_name": "HTMLModel",
     "state": {
      "_dom_classes": [],
      "_model_module": "@jupyter-widgets/controls",
      "_model_module_version": "1.5.0",
      "_model_name": "HTMLModel",
      "_view_count": null,
      "_view_module": "@jupyter-widgets/controls",
      "_view_module_version": "1.5.0",
      "_view_name": "HTMLView",
      "description": "",
      "description_tooltip": null,
      "layout": "IPY_MODEL_6ac706d74367472cb9de3d464df3867a",
      "placeholder": "​",
      "style": "IPY_MODEL_c5ef278701394729a1b0b92aabb30bf8",
      "value": " 1/1 [00:01&lt;00:00,  1.34s/it]"
     }
    },
    "915c28ae638c4fbdb38ac4884a160185": {
     "model_module": "@jupyter-widgets/base",
     "model_name": "LayoutModel",
     "state": {
      "_model_module": "@jupyter-widgets/base",
      "_model_module_version": "1.2.0",
      "_model_name": "LayoutModel",
      "_view_count": null,
      "_view_module": "@jupyter-widgets/base",
      "_view_module_version": "1.2.0",
      "_view_name": "LayoutView",
      "align_content": null,
      "align_items": null,
      "align_self": null,
      "border": null,
      "bottom": null,
      "display": "inline-flex",
      "flex": null,
      "flex_flow": "row wrap",
      "grid_area": null,
      "grid_auto_columns": null,
      "grid_auto_flow": null,
      "grid_auto_rows": null,
      "grid_column": null,
      "grid_gap": null,
      "grid_row": null,
      "grid_template_areas": null,
      "grid_template_columns": null,
      "grid_template_rows": null,
      "height": null,
      "justify_content": null,
      "justify_items": null,
      "left": null,
      "margin": null,
      "max_height": null,
      "max_width": null,
      "min_height": null,
      "min_width": null,
      "object_fit": null,
      "object_position": null,
      "order": null,
      "overflow": null,
      "overflow_x": null,
      "overflow_y": null,
      "padding": null,
      "right": null,
      "top": null,
      "visibility": null,
      "width": "100%"
     }
    },
    "95564cb1bb944c7da935a3678f67e348": {
     "model_module": "@jupyter-widgets/controls",
     "model_name": "FloatProgressModel",
     "state": {
      "_dom_classes": [],
      "_model_module": "@jupyter-widgets/controls",
      "_model_module_version": "1.5.0",
      "_model_name": "FloatProgressModel",
      "_view_count": null,
      "_view_module": "@jupyter-widgets/controls",
      "_view_module_version": "1.5.0",
      "_view_name": "ProgressView",
      "bar_style": "success",
      "description": "Epoch 1: 100%",
      "description_tooltip": null,
      "layout": "IPY_MODEL_a8723fe6f9214b6eb32daa2bb2820145",
      "max": 2,
      "min": 0,
      "orientation": "horizontal",
      "style": "IPY_MODEL_a589cdc8ca414003b42cf9051f8b1e48",
      "value": 2
     }
    },
    "a46d60b90cf04913b3f18f1533b4aca3": {
     "model_module": "@jupyter-widgets/controls",
     "model_name": "FloatProgressModel",
     "state": {
      "_dom_classes": [],
      "_model_module": "@jupyter-widgets/controls",
      "_model_module_version": "1.5.0",
      "_model_name": "FloatProgressModel",
      "_view_count": null,
      "_view_module": "@jupyter-widgets/controls",
      "_view_module_version": "1.5.0",
      "_view_name": "ProgressView",
      "bar_style": "info",
      "description": "Validating: 100%",
      "description_tooltip": null,
      "layout": "IPY_MODEL_b1b3be1894514f38ac31011672e6b510",
      "max": 1,
      "min": 0,
      "orientation": "horizontal",
      "style": "IPY_MODEL_e8eed605897042a8951e80635704fcff",
      "value": 1
     }
    },
    "a5062bdd93524e5c8b34ffee36af1742": {
     "model_module": "@jupyter-widgets/controls",
     "model_name": "FloatProgressModel",
     "state": {
      "_dom_classes": [],
      "_model_module": "@jupyter-widgets/controls",
      "_model_module_version": "1.5.0",
      "_model_name": "FloatProgressModel",
      "_view_count": null,
      "_view_module": "@jupyter-widgets/controls",
      "_view_module_version": "1.5.0",
      "_view_name": "ProgressView",
      "bar_style": "info",
      "description": "Validating: 100%",
      "description_tooltip": null,
      "layout": "IPY_MODEL_f9b719c1a70746a99a2ab0f437c98a40",
      "max": 1,
      "min": 0,
      "orientation": "horizontal",
      "style": "IPY_MODEL_a8bb64119e10442283448f56183bb6d0",
      "value": 1
     }
    },
    "a589cdc8ca414003b42cf9051f8b1e48": {
     "model_module": "@jupyter-widgets/controls",
     "model_name": "ProgressStyleModel",
     "state": {
      "_model_module": "@jupyter-widgets/controls",
      "_model_module_version": "1.5.0",
      "_model_name": "ProgressStyleModel",
      "_view_count": null,
      "_view_module": "@jupyter-widgets/base",
      "_view_module_version": "1.2.0",
      "_view_name": "StyleView",
      "bar_color": null,
      "description_width": "initial"
     }
    },
    "a810b6f9d8644836b950369a6b286e3b": {
     "model_module": "@jupyter-widgets/controls",
     "model_name": "FloatProgressModel",
     "state": {
      "_dom_classes": [],
      "_model_module": "@jupyter-widgets/controls",
      "_model_module_version": "1.5.0",
      "_model_name": "FloatProgressModel",
      "_view_count": null,
      "_view_module": "@jupyter-widgets/controls",
      "_view_module_version": "1.5.0",
      "_view_name": "ProgressView",
      "bar_style": "info",
      "description": "Validating: 100%",
      "description_tooltip": null,
      "layout": "IPY_MODEL_3af102ccecd14ca894a30a8a2d523a40",
      "max": 1,
      "min": 0,
      "orientation": "horizontal",
      "style": "IPY_MODEL_bb93ff5a8f4b4e77bbc12b145598e1a2",
      "value": 1
     }
    },
    "a8723fe6f9214b6eb32daa2bb2820145": {
     "model_module": "@jupyter-widgets/base",
     "model_name": "LayoutModel",
     "state": {
      "_model_module": "@jupyter-widgets/base",
      "_model_module_version": "1.2.0",
      "_model_name": "LayoutModel",
      "_view_count": null,
      "_view_module": "@jupyter-widgets/base",
      "_view_module_version": "1.2.0",
      "_view_name": "LayoutView",
      "align_content": null,
      "align_items": null,
      "align_self": null,
      "border": null,
      "bottom": null,
      "display": null,
      "flex": "2",
      "flex_flow": null,
      "grid_area": null,
      "grid_auto_columns": null,
      "grid_auto_flow": null,
      "grid_auto_rows": null,
      "grid_column": null,
      "grid_gap": null,
      "grid_row": null,
      "grid_template_areas": null,
      "grid_template_columns": null,
      "grid_template_rows": null,
      "height": null,
      "justify_content": null,
      "justify_items": null,
      "left": null,
      "margin": null,
      "max_height": null,
      "max_width": null,
      "min_height": null,
      "min_width": null,
      "object_fit": null,
      "object_position": null,
      "order": null,
      "overflow": null,
      "overflow_x": null,
      "overflow_y": null,
      "padding": null,
      "right": null,
      "top": null,
      "visibility": null,
      "width": null
     }
    },
    "a8bb64119e10442283448f56183bb6d0": {
     "model_module": "@jupyter-widgets/controls",
     "model_name": "ProgressStyleModel",
     "state": {
      "_model_module": "@jupyter-widgets/controls",
      "_model_module_version": "1.5.0",
      "_model_name": "ProgressStyleModel",
      "_view_count": null,
      "_view_module": "@jupyter-widgets/base",
      "_view_module_version": "1.2.0",
      "_view_name": "StyleView",
      "bar_color": null,
      "description_width": "initial"
     }
    },
    "a9da56f04cb34272a199a2703e7c410e": {
     "model_module": "@jupyter-widgets/controls",
     "model_name": "HTMLModel",
     "state": {
      "_dom_classes": [],
      "_model_module": "@jupyter-widgets/controls",
      "_model_module_version": "1.5.0",
      "_model_name": "HTMLModel",
      "_view_count": null,
      "_view_module": "@jupyter-widgets/controls",
      "_view_module_version": "1.5.0",
      "_view_name": "HTMLView",
      "description": "",
      "description_tooltip": null,
      "layout": "IPY_MODEL_b634a4cb3b56495480f5d6dd681d3e4a",
      "placeholder": "​",
      "style": "IPY_MODEL_3003297e18a54a30b54f5ee3eb526fc3",
      "value": " 2/2 [00:06&lt;00:00,  3.29s/it, loss=0.721, v_num=0, train_loss=0.721, val_loss=0.991, val_eff=0.431, val_pur=0.00875]"
     }
    },
    "b1b3be1894514f38ac31011672e6b510": {
     "model_module": "@jupyter-widgets/base",
     "model_name": "LayoutModel",
     "state": {
      "_model_module": "@jupyter-widgets/base",
      "_model_module_version": "1.2.0",
      "_model_name": "LayoutModel",
      "_view_count": null,
      "_view_module": "@jupyter-widgets/base",
      "_view_module_version": "1.2.0",
      "_view_name": "LayoutView",
      "align_content": null,
      "align_items": null,
      "align_self": null,
      "border": null,
      "bottom": null,
      "display": null,
      "flex": "2",
      "flex_flow": null,
      "grid_area": null,
      "grid_auto_columns": null,
      "grid_auto_flow": null,
      "grid_auto_rows": null,
      "grid_column": null,
      "grid_gap": null,
      "grid_row": null,
      "grid_template_areas": null,
      "grid_template_columns": null,
      "grid_template_rows": null,
      "height": null,
      "justify_content": null,
      "justify_items": null,
      "left": null,
      "margin": null,
      "max_height": null,
      "max_width": null,
      "min_height": null,
      "min_width": null,
      "object_fit": null,
      "object_position": null,
      "order": null,
      "overflow": null,
      "overflow_x": null,
      "overflow_y": null,
      "padding": null,
      "right": null,
      "top": null,
      "visibility": null,
      "width": null
     }
    },
    "b634a4cb3b56495480f5d6dd681d3e4a": {
     "model_module": "@jupyter-widgets/base",
     "model_name": "LayoutModel",
     "state": {
      "_model_module": "@jupyter-widgets/base",
      "_model_module_version": "1.2.0",
      "_model_name": "LayoutModel",
      "_view_count": null,
      "_view_module": "@jupyter-widgets/base",
      "_view_module_version": "1.2.0",
      "_view_name": "LayoutView",
      "align_content": null,
      "align_items": null,
      "align_self": null,
      "border": null,
      "bottom": null,
      "display": null,
      "flex": null,
      "flex_flow": null,
      "grid_area": null,
      "grid_auto_columns": null,
      "grid_auto_flow": null,
      "grid_auto_rows": null,
      "grid_column": null,
      "grid_gap": null,
      "grid_row": null,
      "grid_template_areas": null,
      "grid_template_columns": null,
      "grid_template_rows": null,
      "height": null,
      "justify_content": null,
      "justify_items": null,
      "left": null,
      "margin": null,
      "max_height": null,
      "max_width": null,
      "min_height": null,
      "min_width": null,
      "object_fit": null,
      "object_position": null,
      "order": null,
      "overflow": null,
      "overflow_x": null,
      "overflow_y": null,
      "padding": null,
      "right": null,
      "top": null,
      "visibility": null,
      "width": null
     }
    },
    "b775c4c019e044ddb54c09808b18e880": {
     "model_module": "@jupyter-widgets/controls",
     "model_name": "HBoxModel",
     "state": {
      "_dom_classes": [],
      "_model_module": "@jupyter-widgets/controls",
      "_model_module_version": "1.5.0",
      "_model_name": "HBoxModel",
      "_view_count": null,
      "_view_module": "@jupyter-widgets/controls",
      "_view_module_version": "1.5.0",
      "_view_name": "HBoxView",
      "box_style": "",
      "children": [
       "IPY_MODEL_53a699d3e609459887c880f897cc4fec",
       "IPY_MODEL_7ee7859a0ef4408b93bf1bb990252e38"
      ],
      "layout": "IPY_MODEL_2aeabdb8abfb40b39a82dddd641318e4"
     }
    },
    "bae5823cc0b14517ac5b5bd7fcd1cc5e": {
     "model_module": "@jupyter-widgets/base",
     "model_name": "LayoutModel",
     "state": {
      "_model_module": "@jupyter-widgets/base",
      "_model_module_version": "1.2.0",
      "_model_name": "LayoutModel",
      "_view_count": null,
      "_view_module": "@jupyter-widgets/base",
      "_view_module_version": "1.2.0",
      "_view_name": "LayoutView",
      "align_content": null,
      "align_items": null,
      "align_self": null,
      "border": null,
      "bottom": null,
      "display": null,
      "flex": null,
      "flex_flow": null,
      "grid_area": null,
      "grid_auto_columns": null,
      "grid_auto_flow": null,
      "grid_auto_rows": null,
      "grid_column": null,
      "grid_gap": null,
      "grid_row": null,
      "grid_template_areas": null,
      "grid_template_columns": null,
      "grid_template_rows": null,
      "height": null,
      "justify_content": null,
      "justify_items": null,
      "left": null,
      "margin": null,
      "max_height": null,
      "max_width": null,
      "min_height": null,
      "min_width": null,
      "object_fit": null,
      "object_position": null,
      "order": null,
      "overflow": null,
      "overflow_x": null,
      "overflow_y": null,
      "padding": null,
      "right": null,
      "top": null,
      "visibility": null,
      "width": null
     }
    },
    "bb93ff5a8f4b4e77bbc12b145598e1a2": {
     "model_module": "@jupyter-widgets/controls",
     "model_name": "ProgressStyleModel",
     "state": {
      "_model_module": "@jupyter-widgets/controls",
      "_model_module_version": "1.5.0",
      "_model_name": "ProgressStyleModel",
      "_view_count": null,
      "_view_module": "@jupyter-widgets/base",
      "_view_module_version": "1.2.0",
      "_view_name": "StyleView",
      "bar_color": null,
      "description_width": "initial"
     }
    },
    "bbfa65338fe14c1e8c498288b123473b": {
     "model_module": "@jupyter-widgets/controls",
     "model_name": "HBoxModel",
     "state": {
      "_dom_classes": [],
      "_model_module": "@jupyter-widgets/controls",
      "_model_module_version": "1.5.0",
      "_model_name": "HBoxModel",
      "_view_count": null,
      "_view_module": "@jupyter-widgets/controls",
      "_view_module_version": "1.5.0",
      "_view_name": "HBoxView",
      "box_style": "",
      "children": [
       "IPY_MODEL_a810b6f9d8644836b950369a6b286e3b",
       "IPY_MODEL_30463987ebdd487185651d5a9e513128"
      ],
      "layout": "IPY_MODEL_915c28ae638c4fbdb38ac4884a160185"
     }
    },
    "c22a38f24c6c4a8eb7da40d0d353dd5b": {
     "model_module": "@jupyter-widgets/controls",
     "model_name": "DescriptionStyleModel",
     "state": {
      "_model_module": "@jupyter-widgets/controls",
      "_model_module_version": "1.5.0",
      "_model_name": "DescriptionStyleModel",
      "_view_count": null,
      "_view_module": "@jupyter-widgets/base",
      "_view_module_version": "1.2.0",
      "_view_name": "StyleView",
      "description_width": ""
     }
    },
    "c43ce2cb00c9409ebcec330420938217": {
     "model_module": "@jupyter-widgets/controls",
     "model_name": "HBoxModel",
     "state": {
      "_dom_classes": [],
      "_model_module": "@jupyter-widgets/controls",
      "_model_module_version": "1.5.0",
      "_model_name": "HBoxModel",
      "_view_count": null,
      "_view_module": "@jupyter-widgets/controls",
      "_view_module_version": "1.5.0",
      "_view_name": "HBoxView",
      "box_style": "",
      "children": [
       "IPY_MODEL_6e9a9406cf8e4ba3b5657ca5fff782ac",
       "IPY_MODEL_dc9fc80fdb6543e7a759cfcdc0e00e9f"
      ],
      "layout": "IPY_MODEL_e58cff2e4c1c42639701252ec5396b31"
     }
    },
    "c5ef278701394729a1b0b92aabb30bf8": {
     "model_module": "@jupyter-widgets/controls",
     "model_name": "DescriptionStyleModel",
     "state": {
      "_model_module": "@jupyter-widgets/controls",
      "_model_module_version": "1.5.0",
      "_model_name": "DescriptionStyleModel",
      "_view_count": null,
      "_view_module": "@jupyter-widgets/base",
      "_view_module_version": "1.2.0",
      "_view_name": "StyleView",
      "description_width": ""
     }
    },
    "cc34f15941304fd9ae967805a25870e2": {
     "model_module": "@jupyter-widgets/base",
     "model_name": "LayoutModel",
     "state": {
      "_model_module": "@jupyter-widgets/base",
      "_model_module_version": "1.2.0",
      "_model_name": "LayoutModel",
      "_view_count": null,
      "_view_module": "@jupyter-widgets/base",
      "_view_module_version": "1.2.0",
      "_view_name": "LayoutView",
      "align_content": null,
      "align_items": null,
      "align_self": null,
      "border": null,
      "bottom": null,
      "display": "inline-flex",
      "flex": null,
      "flex_flow": "row wrap",
      "grid_area": null,
      "grid_auto_columns": null,
      "grid_auto_flow": null,
      "grid_auto_rows": null,
      "grid_column": null,
      "grid_gap": null,
      "grid_row": null,
      "grid_template_areas": null,
      "grid_template_columns": null,
      "grid_template_rows": null,
      "height": null,
      "justify_content": null,
      "justify_items": null,
      "left": null,
      "margin": null,
      "max_height": null,
      "max_width": null,
      "min_height": null,
      "min_width": null,
      "object_fit": null,
      "object_position": null,
      "order": null,
      "overflow": null,
      "overflow_x": null,
      "overflow_y": null,
      "padding": null,
      "right": null,
      "top": null,
      "visibility": null,
      "width": "100%"
     }
    },
    "d3ca03e2f0ae42799cd67fc9a43d47ae": {
     "model_module": "@jupyter-widgets/controls",
     "model_name": "DescriptionStyleModel",
     "state": {
      "_model_module": "@jupyter-widgets/controls",
      "_model_module_version": "1.5.0",
      "_model_name": "DescriptionStyleModel",
      "_view_count": null,
      "_view_module": "@jupyter-widgets/base",
      "_view_module_version": "1.2.0",
      "_view_name": "StyleView",
      "description_width": ""
     }
    },
    "d71f11fcaff3408b8665f0c972a0f489": {
     "model_module": "@jupyter-widgets/base",
     "model_name": "LayoutModel",
     "state": {
      "_model_module": "@jupyter-widgets/base",
      "_model_module_version": "1.2.0",
      "_model_name": "LayoutModel",
      "_view_count": null,
      "_view_module": "@jupyter-widgets/base",
      "_view_module_version": "1.2.0",
      "_view_name": "LayoutView",
      "align_content": null,
      "align_items": null,
      "align_self": null,
      "border": null,
      "bottom": null,
      "display": null,
      "flex": "2",
      "flex_flow": null,
      "grid_area": null,
      "grid_auto_columns": null,
      "grid_auto_flow": null,
      "grid_auto_rows": null,
      "grid_column": null,
      "grid_gap": null,
      "grid_row": null,
      "grid_template_areas": null,
      "grid_template_columns": null,
      "grid_template_rows": null,
      "height": null,
      "justify_content": null,
      "justify_items": null,
      "left": null,
      "margin": null,
      "max_height": null,
      "max_width": null,
      "min_height": null,
      "min_width": null,
      "object_fit": null,
      "object_position": null,
      "order": null,
      "overflow": null,
      "overflow_x": null,
      "overflow_y": null,
      "padding": null,
      "right": null,
      "top": null,
      "visibility": null,
      "width": null
     }
    },
    "db1fc08cdff2470dafc2a580ab567248": {
     "model_module": "@jupyter-widgets/base",
     "model_name": "LayoutModel",
     "state": {
      "_model_module": "@jupyter-widgets/base",
      "_model_module_version": "1.2.0",
      "_model_name": "LayoutModel",
      "_view_count": null,
      "_view_module": "@jupyter-widgets/base",
      "_view_module_version": "1.2.0",
      "_view_name": "LayoutView",
      "align_content": null,
      "align_items": null,
      "align_self": null,
      "border": null,
      "bottom": null,
      "display": "inline-flex",
      "flex": null,
      "flex_flow": "row wrap",
      "grid_area": null,
      "grid_auto_columns": null,
      "grid_auto_flow": null,
      "grid_auto_rows": null,
      "grid_column": null,
      "grid_gap": null,
      "grid_row": null,
      "grid_template_areas": null,
      "grid_template_columns": null,
      "grid_template_rows": null,
      "height": null,
      "justify_content": null,
      "justify_items": null,
      "left": null,
      "margin": null,
      "max_height": null,
      "max_width": null,
      "min_height": null,
      "min_width": null,
      "object_fit": null,
      "object_position": null,
      "order": null,
      "overflow": null,
      "overflow_x": null,
      "overflow_y": null,
      "padding": null,
      "right": null,
      "top": null,
      "visibility": null,
      "width": "100%"
     }
    },
    "dc9fc80fdb6543e7a759cfcdc0e00e9f": {
     "model_module": "@jupyter-widgets/controls",
     "model_name": "HTMLModel",
     "state": {
      "_dom_classes": [],
      "_model_module": "@jupyter-widgets/controls",
      "_model_module_version": "1.5.0",
      "_model_name": "HTMLModel",
      "_view_count": null,
      "_view_module": "@jupyter-widgets/controls",
      "_view_module_version": "1.5.0",
      "_view_name": "HTMLView",
      "description": "",
      "description_tooltip": null,
      "layout": "IPY_MODEL_bae5823cc0b14517ac5b5bd7fcd1cc5e",
      "placeholder": "​",
      "style": "IPY_MODEL_fbaee165e2764671b05e3df43ae426f5",
      "value": " 1/1 [00:06&lt;00:00,  6.05s/it]"
     }
    },
    "de48527c13fe4b959eae9ce31caca633": {
     "model_module": "@jupyter-widgets/controls",
     "model_name": "FloatProgressModel",
     "state": {
      "_dom_classes": [],
      "_model_module": "@jupyter-widgets/controls",
      "_model_module_version": "1.5.0",
      "_model_name": "FloatProgressModel",
      "_view_count": null,
      "_view_module": "@jupyter-widgets/controls",
      "_view_module_version": "1.5.0",
      "_view_name": "ProgressView",
      "bar_style": "success",
      "description": "Epoch 1: 100%",
      "description_tooltip": null,
      "layout": "IPY_MODEL_1c05afbd962f41c7802e475bcb67b1cc",
      "max": 2,
      "min": 0,
      "orientation": "horizontal",
      "style": "IPY_MODEL_6cba1d955d844a42ace3252f1758876e",
      "value": 2
     }
    },
    "e39f057c5dd44ef2a33e60c85ea942f6": {
     "model_module": "@jupyter-widgets/base",
     "model_name": "LayoutModel",
     "state": {
      "_model_module": "@jupyter-widgets/base",
      "_model_module_version": "1.2.0",
      "_model_name": "LayoutModel",
      "_view_count": null,
      "_view_module": "@jupyter-widgets/base",
      "_view_module_version": "1.2.0",
      "_view_name": "LayoutView",
      "align_content": null,
      "align_items": null,
      "align_self": null,
      "border": null,
      "bottom": null,
      "display": null,
      "flex": null,
      "flex_flow": null,
      "grid_area": null,
      "grid_auto_columns": null,
      "grid_auto_flow": null,
      "grid_auto_rows": null,
      "grid_column": null,
      "grid_gap": null,
      "grid_row": null,
      "grid_template_areas": null,
      "grid_template_columns": null,
      "grid_template_rows": null,
      "height": null,
      "justify_content": null,
      "justify_items": null,
      "left": null,
      "margin": null,
      "max_height": null,
      "max_width": null,
      "min_height": null,
      "min_width": null,
      "object_fit": null,
      "object_position": null,
      "order": null,
      "overflow": null,
      "overflow_x": null,
      "overflow_y": null,
      "padding": null,
      "right": null,
      "top": null,
      "visibility": null,
      "width": null
     }
    },
    "e58cff2e4c1c42639701252ec5396b31": {
     "model_module": "@jupyter-widgets/base",
     "model_name": "LayoutModel",
     "state": {
      "_model_module": "@jupyter-widgets/base",
      "_model_module_version": "1.2.0",
      "_model_name": "LayoutModel",
      "_view_count": null,
      "_view_module": "@jupyter-widgets/base",
      "_view_module_version": "1.2.0",
      "_view_name": "LayoutView",
      "align_content": null,
      "align_items": null,
      "align_self": null,
      "border": null,
      "bottom": null,
      "display": "inline-flex",
      "flex": null,
      "flex_flow": "row wrap",
      "grid_area": null,
      "grid_auto_columns": null,
      "grid_auto_flow": null,
      "grid_auto_rows": null,
      "grid_column": null,
      "grid_gap": null,
      "grid_row": null,
      "grid_template_areas": null,
      "grid_template_columns": null,
      "grid_template_rows": null,
      "height": null,
      "justify_content": null,
      "justify_items": null,
      "left": null,
      "margin": null,
      "max_height": null,
      "max_width": null,
      "min_height": null,
      "min_width": null,
      "object_fit": null,
      "object_position": null,
      "order": null,
      "overflow": null,
      "overflow_x": null,
      "overflow_y": null,
      "padding": null,
      "right": null,
      "top": null,
      "visibility": null,
      "width": "100%"
     }
    },
    "e788c79484e14d418a308e9ba8621a47": {
     "model_module": "@jupyter-widgets/base",
     "model_name": "LayoutModel",
     "state": {
      "_model_module": "@jupyter-widgets/base",
      "_model_module_version": "1.2.0",
      "_model_name": "LayoutModel",
      "_view_count": null,
      "_view_module": "@jupyter-widgets/base",
      "_view_module_version": "1.2.0",
      "_view_name": "LayoutView",
      "align_content": null,
      "align_items": null,
      "align_self": null,
      "border": null,
      "bottom": null,
      "display": "inline-flex",
      "flex": null,
      "flex_flow": "row wrap",
      "grid_area": null,
      "grid_auto_columns": null,
      "grid_auto_flow": null,
      "grid_auto_rows": null,
      "grid_column": null,
      "grid_gap": null,
      "grid_row": null,
      "grid_template_areas": null,
      "grid_template_columns": null,
      "grid_template_rows": null,
      "height": null,
      "justify_content": null,
      "justify_items": null,
      "left": null,
      "margin": null,
      "max_height": null,
      "max_width": null,
      "min_height": null,
      "min_width": null,
      "object_fit": null,
      "object_position": null,
      "order": null,
      "overflow": null,
      "overflow_x": null,
      "overflow_y": null,
      "padding": null,
      "right": null,
      "top": null,
      "visibility": null,
      "width": "100%"
     }
    },
    "e8eed605897042a8951e80635704fcff": {
     "model_module": "@jupyter-widgets/controls",
     "model_name": "ProgressStyleModel",
     "state": {
      "_model_module": "@jupyter-widgets/controls",
      "_model_module_version": "1.5.0",
      "_model_name": "ProgressStyleModel",
      "_view_count": null,
      "_view_module": "@jupyter-widgets/base",
      "_view_module_version": "1.2.0",
      "_view_name": "StyleView",
      "bar_color": null,
      "description_width": "initial"
     }
    },
    "ef31455f32f34c08b6ae8739ea710acd": {
     "model_module": "@jupyter-widgets/controls",
     "model_name": "HTMLModel",
     "state": {
      "_dom_classes": [],
      "_model_module": "@jupyter-widgets/controls",
      "_model_module_version": "1.5.0",
      "_model_name": "HTMLModel",
      "_view_count": null,
      "_view_module": "@jupyter-widgets/controls",
      "_view_module_version": "1.5.0",
      "_view_name": "HTMLView",
      "description": "",
      "description_tooltip": null,
      "layout": "IPY_MODEL_05dda350689a4e0cba0dbdff036e907f",
      "placeholder": "​",
      "style": "IPY_MODEL_77194c6abd894500a39e4ecd6c7ff895",
      "value": " 1/1 [00:01&lt;00:00,  1.33s/it]"
     }
    },
    "f06ff041a2dd4fd1beb792eaef5b8640": {
     "model_module": "@jupyter-widgets/controls",
     "model_name": "HBoxModel",
     "state": {
      "_dom_classes": [],
      "_model_module": "@jupyter-widgets/controls",
      "_model_module_version": "1.5.0",
      "_model_name": "HBoxModel",
      "_view_count": null,
      "_view_module": "@jupyter-widgets/controls",
      "_view_module_version": "1.5.0",
      "_view_name": "HBoxView",
      "box_style": "",
      "children": [
       "IPY_MODEL_a5062bdd93524e5c8b34ffee36af1742",
       "IPY_MODEL_ef31455f32f34c08b6ae8739ea710acd"
      ],
      "layout": "IPY_MODEL_cc34f15941304fd9ae967805a25870e2"
     }
    },
    "f9b719c1a70746a99a2ab0f437c98a40": {
     "model_module": "@jupyter-widgets/base",
     "model_name": "LayoutModel",
     "state": {
      "_model_module": "@jupyter-widgets/base",
      "_model_module_version": "1.2.0",
      "_model_name": "LayoutModel",
      "_view_count": null,
      "_view_module": "@jupyter-widgets/base",
      "_view_module_version": "1.2.0",
      "_view_name": "LayoutView",
      "align_content": null,
      "align_items": null,
      "align_self": null,
      "border": null,
      "bottom": null,
      "display": null,
      "flex": "2",
      "flex_flow": null,
      "grid_area": null,
      "grid_auto_columns": null,
      "grid_auto_flow": null,
      "grid_auto_rows": null,
      "grid_column": null,
      "grid_gap": null,
      "grid_row": null,
      "grid_template_areas": null,
      "grid_template_columns": null,
      "grid_template_rows": null,
      "height": null,
      "justify_content": null,
      "justify_items": null,
      "left": null,
      "margin": null,
      "max_height": null,
      "max_width": null,
      "min_height": null,
      "min_width": null,
      "object_fit": null,
      "object_position": null,
      "order": null,
      "overflow": null,
      "overflow_x": null,
      "overflow_y": null,
      "padding": null,
      "right": null,
      "top": null,
      "visibility": null,
      "width": null
     }
    },
    "fbaee165e2764671b05e3df43ae426f5": {
     "model_module": "@jupyter-widgets/controls",
     "model_name": "DescriptionStyleModel",
     "state": {
      "_model_module": "@jupyter-widgets/controls",
      "_model_module_version": "1.5.0",
      "_model_name": "DescriptionStyleModel",
      "_view_count": null,
      "_view_module": "@jupyter-widgets/base",
      "_view_module_version": "1.2.0",
      "_view_name": "StyleView",
      "description_width": ""
     }
    },
    "fd50a16f1bca44149f3ad7b0994772b7": {
     "model_module": "@jupyter-widgets/controls",
     "model_name": "HBoxModel",
     "state": {
      "_dom_classes": [],
      "_model_module": "@jupyter-widgets/controls",
      "_model_module_version": "1.5.0",
      "_model_name": "HBoxModel",
      "_view_count": null,
      "_view_module": "@jupyter-widgets/controls",
      "_view_module_version": "1.5.0",
      "_view_name": "HBoxView",
      "box_style": "",
      "children": [
       "IPY_MODEL_a46d60b90cf04913b3f18f1533b4aca3",
       "IPY_MODEL_8f082f43bae647a8b854327ebd65a93e"
      ],
      "layout": "IPY_MODEL_db1fc08cdff2470dafc2a580ab567248"
     }
    }
   }
  }
 },
 "nbformat": 4,
 "nbformat_minor": 4
}
